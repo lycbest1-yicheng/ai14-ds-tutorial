{
 "cells": [
  {
   "cell_type": "markdown",
   "metadata": {},
   "source": [
    "___\n",
    "\n",
    "<center><img src='../AI14_logo.png'/></center>\n",
    "\n",
    "___\n",
    "<center><em>Content Copyright by AI14.io</em></center>"
   ]
  },
  {
   "attachments": {},
   "cell_type": "markdown",
   "metadata": {},
   "source": [
    "# Python Numerical Comparison Operators and if-else Statements\n",
    "\n",
    "In this notebook, we will be learning about the basic numerical comparison operators in Python, as well as the syntax for if-else statements.\n",
    "\n",
    "Let's get started!"
   ]
  },
  {
   "attachments": {},
   "cell_type": "markdown",
   "metadata": {},
   "source": [
    "## Comparison Operators\n",
    "\n",
    "Comparison operators in Python are used to compare the values on either side of them and decide the relation among them. They are also known as relational operators. These operators include: <, >, ==, !=, >=, <=.\n",
    "\n",
    "Let's look at these operators with some examples."
   ]
  },
  {
   "cell_type": "code",
   "execution_count": null,
   "metadata": {},
   "outputs": [],
   "source": [
    "# declare variables\n",
    "a = 10\n",
    "b = 20"
   ]
  },
  {
   "cell_type": "code",
   "execution_count": null,
   "metadata": {},
   "outputs": [],
   "source": [
    "# check if a is equal to b\n",
    "print(a == b) # Output: False"
   ]
  },
  {
   "cell_type": "code",
   "execution_count": null,
   "metadata": {},
   "outputs": [],
   "source": [
    "# check if a is not equal to b\n",
    "print(a != b) # Output: True"
   ]
  },
  {
   "cell_type": "code",
   "execution_count": null,
   "metadata": {},
   "outputs": [],
   "source": [
    "# check if a is less than b\n",
    "print(a < b) # Output: True"
   ]
  },
  {
   "cell_type": "code",
   "execution_count": null,
   "metadata": {},
   "outputs": [],
   "source": [
    "# check if a is more than b\n",
    "print(a > b) # Output: False"
   ]
  },
  {
   "cell_type": "code",
   "execution_count": null,
   "metadata": {},
   "outputs": [],
   "source": [
    "# check if a is less than or equal to b\n",
    "print(a <= b) # Output: True"
   ]
  },
  {
   "cell_type": "code",
   "execution_count": null,
   "metadata": {},
   "outputs": [],
   "source": [
    "# check if a is more than or equal to b\n",
    "print(a >= b) # Output: False"
   ]
  },
  {
   "attachments": {},
   "cell_type": "markdown",
   "metadata": {},
   "source": [
    "## Logical operators in Python are used to combine conditional statements:\n",
    "\n",
    "1. and: Returns True if both statements are true\n",
    "2. or: Returns True if one of the statements is true\n",
    "3. not: Reverse the logical state of the operand"
   ]
  },
  {
   "cell_type": "code",
   "execution_count": 1,
   "metadata": {},
   "outputs": [],
   "source": [
    "# declare variables\n",
    "x = 10\n",
    "y = 20\n",
    "z = 30"
   ]
  },
  {
   "cell_type": "code",
   "execution_count": null,
   "metadata": {},
   "outputs": [],
   "source": [
    "# using 'and' operator\n",
    "# checks if x is less than y AND y is less than z\n",
    "print(x < y and y < z) "
   ]
  },
  {
   "cell_type": "code",
   "execution_count": null,
   "metadata": {},
   "outputs": [],
   "source": [
    "# using 'or' operator\n",
    "# checks if x is less than y OR y is greater than z\n",
    "print(x < y or y > z) "
   ]
  },
  {
   "cell_type": "code",
   "execution_count": null,
   "metadata": {},
   "outputs": [],
   "source": [
    "# using 'not' operator\n",
    "# checks NOT(x is less than y)\n",
    "print(not(x < y)) "
   ]
  },
  {
   "attachments": {},
   "cell_type": "markdown",
   "metadata": {},
   "source": [
    "## if-else Statement\n",
    "\n",
    "Python uses if-else statements to execute code based on a certain condition. Here's the basic syntax:\n"
   ]
  },
  {
   "cell_type": "code",
   "execution_count": null,
   "metadata": {},
   "outputs": [],
   "source": [
    "# Basic syntax\n",
    "\n",
    "# if condition: \n",
    "    # code to execute if condition is True\n",
    "# elif condition:\n",
    "    # code to execute if condition is True\n",
    "# else:\n",
    "    # code to execute if condition is False"
   ]
  },
  {
   "cell_type": "code",
   "execution_count": null,
   "metadata": {},
   "outputs": [],
   "source": [
    "# Define variables\n",
    "x = 10\n",
    "y = 20\n",
    "\n",
    "if x < y:\n",
    "    print(\"x is less than y\")\n",
    "else:\n",
    "    print(\"x is not less than y\")  # This will print"
   ]
  },
  {
   "attachments": {},
   "cell_type": "markdown",
   "metadata": {},
   "source": [
    "## elif statement\n",
    "\n",
    "The elif keyword is pythons way of saying \"if the previous conditions were not true, then try this condition\". The elif statement allows you to check multiple expressions for True and execute a block of code as soon as one of the conditions evaluates to True.You should also note that you can put in as many elif statements as you want before you close off with an else."
   ]
  },
  {
   "cell_type": "code",
   "execution_count": null,
   "metadata": {},
   "outputs": [],
   "source": [
    "x = 20\n",
    "\n",
    "if x < 10:\n",
    "    print(\"x is less than 10\")\n",
    "elif x < 20:\n",
    "    print(\"x is less than 20 but greater than or equal to 10\")\n",
    "else:\n",
    "    print(\"x is greater than or equal to 20\")  # This will print"
   ]
  },
  {
   "cell_type": "markdown",
   "metadata": {},
   "source": [
    "## else statement\n",
    "\n",
    "The else statement can be ignored if you do not want to do anything if the condition is not satisfied."
   ]
  },
  {
   "cell_type": "code",
   "execution_count": null,
   "metadata": {},
   "outputs": [],
   "source": [
    "# Define variables\n",
    "x = 30\n",
    "y = 20\n",
    "\n",
    "if x < y:\n",
    "    print(\"x is less than y\")"
   ]
  },
  {
   "attachments": {},
   "cell_type": "markdown",
   "metadata": {},
   "source": [
    "## Exercises\n",
    "\n",
    "Now that you've learned the basics of comparison and if-else statement in Python and how to perform arithmetic operations, try the following exercises."
   ]
  },
  {
   "cell_type": "code",
   "execution_count": null,
   "metadata": {},
   "outputs": [],
   "source": [
    "#Exercise 1: Write a Python program to check if a number is not equal to 10."
   ]
  },
  {
   "cell_type": "code",
   "execution_count": null,
   "metadata": {},
   "outputs": [],
   "source": [
    "#Exercise 2: Write a Python program to check if a number is less than 10 and greater than -10."
   ]
  },
  {
   "cell_type": "code",
   "execution_count": null,
   "metadata": {},
   "outputs": [],
   "source": [
    "#Exercise 3: \n",
    "# Write a Python program that assigns grades based on marks. The criteria is as follows:\n",
    "# Above 90: 'A'\n",
    "# 80 to 90: 'B'\n",
    "# 70 to 79: 'C'\n",
    "# 60 to 69: 'D'\n",
    "# Below 60: 'F'"
   ]
  },
  {
   "cell_type": "code",
   "execution_count": null,
   "metadata": {},
   "outputs": [],
   "source": [
    "# Exercise 4: Write a Python program to classify a number. \n",
    "# If the number is a positive multiple of 2, print 'Positive Even'. \n",
    "# If the number is a positive number but not a multiple of 2, print 'Positive Odd'. \n",
    "# If it's a negative multiple of 2, print 'Negative Even'. \n",
    "# If it's a negative number but not a multiple of 2, print 'Negative Odd'. \n",
    "# If the number is zero, print 'Zero'."
   ]
  },
  {
   "attachments": {},
   "cell_type": "markdown",
   "metadata": {},
   "source": [
    "## Congratulations!\n",
    "\n",
    "You have nailed Python numerical comparison and If-Else statement! Keep going!"
   ]
  }
 ],
 "metadata": {
  "kernelspec": {
   "display_name": "base",
   "language": "python",
   "name": "python3"
  },
  "language_info": {
   "codemirror_mode": {
    "name": "ipython",
    "version": 3
   },
   "file_extension": ".py",
   "mimetype": "text/x-python",
   "name": "python",
   "nbconvert_exporter": "python",
   "pygments_lexer": "ipython3",
   "version": "3.6.3"
  },
  "orig_nbformat": 4,
  "vscode": {
   "interpreter": {
    "hash": "bd1fc50697c6a16b990523ef555a399dd1154269f321a4372c319ef0b4b4d5e7"
   }
  }
 },
 "nbformat": 4,
 "nbformat_minor": 2
}
