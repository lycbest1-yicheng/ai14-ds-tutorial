{
 "cells": [
  {
   "cell_type": "markdown",
   "metadata": {},
   "source": [
    "___\n",
    "\n",
    "<center><img src='../AI14_logo.png'/></center>\n",
    "\n",
    "___\n",
    "<center><em>Content Copyright by AI14.io</em></center>"
   ]
  },
  {
   "attachments": {},
   "cell_type": "markdown",
   "metadata": {},
   "source": [
    "# Python While loops\n",
    "\n",
    "In this notebook, we will be learning about the basic looping in Python, in particular, the 'while-loop'.\n",
    "\n",
    "Let's get started!"
   ]
  },
  {
   "attachments": {},
   "cell_type": "markdown",
   "metadata": {},
   "source": [
    "## While-loops basics\n",
    "\n",
    "The while loop in Python is used to iterate over a block of code as long as the test expression (condition) is true.\n",
    "\n",
    "Syntax:\n",
    "while test_expression: <br>\n",
    "&nbsp; &nbsp; &nbsp;   Body of while\n",
    "\n",
    "In the while loop, test expression is checked first. The body of the loop is entered only if the test_expression evaluates to True. \n",
    "\n",
    "After one iteration, the test expression is checked again. \n",
    "\n",
    "This process continues until the test_expression evaluates to False."
   ]
  },
  {
   "cell_type": "code",
   "execution_count": null,
   "metadata": {},
   "outputs": [],
   "source": [
    "# Example 1: Basic usage of while loop\n",
    "\n",
    "# Let's print numbers from 1 to 5 using a while loop\n",
    "\n",
    "count = 1\n",
    "while count <= 5:\n",
    "    print(count)\n",
    "    count += 1  # this is the same as count = count + 1"
   ]
  },
  {
   "cell_type": "code",
   "execution_count": null,
   "metadata": {},
   "outputs": [],
   "source": [
    "# You can also implement this using the for-loop.\n",
    "\n",
    "for i in range(1,6,1):\n",
    "    print(i)"
   ]
  },
  {
   "cell_type": "code",
   "execution_count": null,
   "metadata": {},
   "outputs": [],
   "source": [
    "# Example 2: Calculating factorial using while loop\n",
    "\n",
    "# Let's calculate the factorial of a number n!\n",
    "\n",
    "num = 5  # we will calculate the factorial of this number\n",
    "factorial = 1  # start with 1 since multiplying with 1 doesn't change value\n",
    "\n",
    "while num > 1:\n",
    "    factorial *= num  # this is the same as factorial = factorial * num\n",
    "    num -= 1  # this is the same as num = num - 1\n",
    "\n",
    "print(factorial)"
   ]
  },
  {
   "cell_type": "code",
   "execution_count": null,
   "metadata": {},
   "outputs": [],
   "source": [
    "# Example 3: Finding Fibonacci series using while loop\n",
    "\n",
    "# Let's find the Fibonacci series up to n: n(i+2) = n(i) + n(i+1)\n",
    "\n",
    "n = 10  # we will find the Fibonacci series up to this number\n",
    "a, b = 0, 1  # first two numbers in the Fibonacci series\n",
    "\n",
    "while a < n:\n",
    "    print(a)\n",
    "    a, b = b, a+b  # reassign a and b for next iteration"
   ]
  },
  {
   "attachments": {},
   "cell_type": "markdown",
   "metadata": {},
   "source": [
    "## While-loop control statements\n",
    "\n",
    "Control statements in Python like break and continue can be used inside the while loop to alter its execution flow.\n",
    "\n",
    "1. \"break\"     : Terminates the loop statement and transfers execution to the statement immediately following the loop.\n",
    "\n",
    "2. \"continue\"  : Causes the loop to skip the remainder of its body and immediately retest its condition prior to reiterating.\n"
   ]
  },
  {
   "cell_type": "code",
   "execution_count": null,
   "metadata": {},
   "outputs": [],
   "source": [
    "# Example 4: Using break statement in while loop\n",
    "\n",
    "# The following example demonstrates usage of break statement in a while loop\n",
    "\n",
    "num = 1\n",
    "while num <= 5:\n",
    "    print(num)\n",
    "    if num == 3:\n",
    "        break\n",
    "    num += 1"
   ]
  },
  {
   "cell_type": "code",
   "execution_count": null,
   "metadata": {},
   "outputs": [],
   "source": [
    "# Example 5: Using continue statement in while loop\n",
    "\n",
    "# The following example demonstrates usage of continue statement in a while loop\n",
    "\n",
    "num = 0\n",
    "while num < 5:\n",
    "    num += 1\n",
    "    if num == 3:\n",
    "        continue\n",
    "    print(num)"
   ]
  },
  {
   "attachments": {},
   "cell_type": "markdown",
   "metadata": {},
   "source": [
    "## Exercises\n",
    "\n",
    "Now that you've learned the basics of while-loop, try the following exercises."
   ]
  },
  {
   "cell_type": "code",
   "execution_count": null,
   "metadata": {},
   "outputs": [],
   "source": [
    "# Exercise 1: Write a Python program using a while loop to count from 10 down to 1, and then print \"Blastoff!\""
   ]
  },
  {
   "cell_type": "code",
   "execution_count": null,
   "metadata": {},
   "outputs": [],
   "source": [
    "# Exercise 2: Write a Python program that prints all the even numbers from 1 to 100 using a while loop. (use continue)"
   ]
  },
  {
   "cell_type": "code",
   "execution_count": null,
   "metadata": {},
   "outputs": [],
   "source": [
    "# Exercise 3: Write a Python program that prints all the factorial number that is less than 1000. (use break)"
   ]
  },
  {
   "cell_type": "code",
   "execution_count": null,
   "metadata": {},
   "outputs": [],
   "source": [
    "# Exercise 4: Write a while loop that goes through a string and counts the number of vowels (a, e, i, o, u) in it. \n",
    "# The function should return a dictionary with each vowel as a key and its count as the value."
   ]
  },
  {
   "attachments": {},
   "cell_type": "markdown",
   "metadata": {},
   "source": [
    "## Congratulations!\n",
    "\n",
    "You have nailed Python while-loop statement! Keep going!"
   ]
  }
 ],
 "metadata": {
  "kernelspec": {
   "display_name": "base",
   "language": "python",
   "name": "python3"
  },
  "language_info": {
   "codemirror_mode": {
    "name": "ipython",
    "version": 3
   },
   "file_extension": ".py",
   "mimetype": "text/x-python",
   "name": "python",
   "nbconvert_exporter": "python",
   "pygments_lexer": "ipython3",
   "version": "3.6.3"
  },
  "orig_nbformat": 4,
  "vscode": {
   "interpreter": {
    "hash": "bd1fc50697c6a16b990523ef555a399dd1154269f321a4372c319ef0b4b4d5e7"
   }
  }
 },
 "nbformat": 4,
 "nbformat_minor": 2
}
