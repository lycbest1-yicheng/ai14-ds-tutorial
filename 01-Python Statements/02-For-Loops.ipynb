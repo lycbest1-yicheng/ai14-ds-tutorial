{
 "cells": [
  {
   "cell_type": "markdown",
   "metadata": {},
   "source": [
    "___\n",
    "\n",
    "<center><img src='../AI14_logo.png'/></center>\n",
    "\n",
    "___\n",
    "<center><em>Content Copyright by AI14.io</em></center>"
   ]
  },
  {
   "attachments": {},
   "cell_type": "markdown",
   "metadata": {},
   "source": [
    "# Python for loops\n",
    "\n",
    "In this notebook, we will be learning about the basic looping in Python, in particular, the 'for-loop'.\n",
    "\n",
    "Let's get started!"
   ]
  },
  {
   "attachments": {},
   "cell_type": "markdown",
   "metadata": {},
   "source": [
    "## for-loop basics\n",
    "\n",
    "The 'for-loop' in Python is used to iterate over a sequence (like a list, tuple, string) or other iterable objects. \n",
    "Iterating over a sequence is called traversal.\n",
    "\n",
    "Here's a basic syntax of a 'for-loop' in Python:\n",
    "\n",
    "for val in sequence: <br>\n",
    "&nbsp; &nbsp; &nbsp;    Body of for\n",
    "\n",
    "'val' is the variable that takes the value of the item inside the sequence on each iteration.\n"
   ]
  },
  {
   "attachments": {},
   "cell_type": "markdown",
   "metadata": {},
   "source": [
    "## Use case 1: For loops can be used to iterate over List object.\n",
    "\n",
    "When looping through a list, the iteration happens over each item in order. \n",
    "If you want access to the index of each element within the body of a loop, you can use the built-in `enumerate` function, which provides you with the index for each item."
   ]
  },
  {
   "cell_type": "code",
   "execution_count": null,
   "metadata": {},
   "outputs": [],
   "source": [
    "# Example: To print all elements in a list.\n",
    "\n",
    "fruits = ['apple', 'banana', 'mango']\n",
    "\n",
    "# Here, 'fruit' is the variable that takes the value of the item inside the fruits list on each iteration.\n",
    "\n",
    "for fruit in fruits:\n",
    "    print(fruit)"
   ]
  },
  {
   "cell_type": "code",
   "execution_count": null,
   "metadata": {},
   "outputs": [],
   "source": [
    "# use enumerate statment to print index in the list\n",
    "for i, fruit in enumerate(fruits):\n",
    "    print(f\"Item {fruit} is at position {i}\")"
   ]
  },
  {
   "attachments": {},
   "cell_type": "markdown",
   "metadata": {},
   "source": [
    "## Use case 2: For loops can be used to iterate over String object.\n",
    "\n",
    "When looping through a string, the iteration happens over each character. \n",
    "\n",
    "If you want access to the index of each element within the body of a loop, you can use the built-in `enumerate` function, which provides you with the index for each item."
   ]
  },
  {
   "cell_type": "code",
   "execution_count": null,
   "metadata": {},
   "outputs": [],
   "source": [
    "# Let's define a string\n",
    "message = \"Python\"\n",
    "\n",
    "# We can iterate over each character in the string using a for loop\n",
    "for char in message:\n",
    "    print(char)"
   ]
  },
  {
   "cell_type": "code",
   "execution_count": null,
   "metadata": {},
   "outputs": [],
   "source": [
    "# If we want to access the index of each character, we can use the 'enumerate' function\n",
    "for i, char in enumerate(message):\n",
    "    print(f\"Character {char} is at position {i}\")"
   ]
  },
  {
   "attachments": {},
   "cell_type": "markdown",
   "metadata": {},
   "source": [
    "## Use case 3: For loops can be used to iterate over Range Object.\n",
    "\n",
    "We can generate a sequence of numbers using 'range()' function. 'range(10)' will generate numbers from 0 to 9 (10 numbers).\n",
    "\n",
    "We can also define the start, stop and step size as 'range(start, stop, step size)'. step size defaults to 1 if not provided.\n",
    "\n",
    "This function does not store all the values in memory, it would be inefficient. So it remembers the start, stop, step size and generates the next number on the go.\n"
   ]
  },
  {
   "cell_type": "code",
   "execution_count": null,
   "metadata": {},
   "outputs": [],
   "source": [
    "# Example 1: To print numbers from 1 to 5.\n",
    "\n",
    "for i in range(1, 6):\n",
    "    print(i)"
   ]
  },
  {
   "cell_type": "code",
   "execution_count": null,
   "metadata": {},
   "outputs": [],
   "source": [
    "# Example 2: To print numbers from 1 to 5 with step size 2.\n",
    "\n",
    "for i in range(1, 6, 2):\n",
    "    print(i)"
   ]
  },
  {
   "cell_type": "code",
   "execution_count": null,
   "metadata": {},
   "outputs": [],
   "source": [
    "# Example 3: To print numbers from 5 to 1 with step size -2 (going backwards).\n",
    "\n",
    "for i in range(6, 1, -2):\n",
    "    print(i)"
   ]
  },
  {
   "attachments": {},
   "cell_type": "markdown",
   "metadata": {},
   "source": [
    "## Use case 4: For loops can be used to iterate over Dictionary object.\n",
    "\n",
    "Dictionaries in Python are a type of collection which stores data in key-value pairs. \n",
    "\n",
    "Unlike sequences which are indexed by integers, dictionaries are indexed by keys which can be of any immutable type."
   ]
  },
  {
   "cell_type": "code",
   "execution_count": null,
   "metadata": {},
   "outputs": [],
   "source": [
    "# Example 1: Iterating over dictionary keys\n",
    "\n",
    "# Let's define a dictionary\n",
    "person = {'name': 'John', 'age': 25, 'profession': 'Engineer'}\n",
    "\n",
    "# We can iterate over each key in the dictionary using a for loop\n",
    "for key in person:\n",
    "    print(key)"
   ]
  },
  {
   "cell_type": "code",
   "execution_count": null,
   "metadata": {},
   "outputs": [],
   "source": [
    "# Example 2: Iterating over dictionary values\n",
    "\n",
    "# We can also iterate over each value in the dictionary using a for loop and the .values() method\n",
    "for value in person.values():\n",
    "    print(value)"
   ]
  },
  {
   "cell_type": "code",
   "execution_count": null,
   "metadata": {},
   "outputs": [],
   "source": [
    "# Example 3: Iterating over dictionary key-value pairs (items)\n",
    "\n",
    "# We can iterate over each key-value pair in the dictionary using a for loop and the .items() method\n",
    "for key, value in person.items():\n",
    "    print(f\"The key is {key} and the value is {value}\")"
   ]
  },
  {
   "attachments": {},
   "cell_type": "markdown",
   "metadata": {},
   "source": [
    "## Use case 5: For loops can be used to iterate over List of tuples object.\n",
    "\n",
    "Tuples in Python are a type of collection which stores multiple items in a single variable. \n",
    "\n",
    "A list of tuples effectively represents a 2D array or a table with rows and columns.\n"
   ]
  },
  {
   "cell_type": "code",
   "execution_count": null,
   "metadata": {},
   "outputs": [],
   "source": [
    "# Example 1: Iterating over list of tuples\n",
    "\n",
    "# Let's define a list of tuples\n",
    "student_grades = [('John', 85), ('Sarah', 93), ('Michael', 90)]\n",
    "\n",
    "# We can iterate over each tuple in the list using a for loop\n",
    "for tup in student_grades:\n",
    "    print(tup)"
   ]
  },
  {
   "cell_type": "code",
   "execution_count": null,
   "metadata": {},
   "outputs": [],
   "source": [
    "# Example 2: Unpacking tuples during iteration\n",
    "\n",
    "# During iteration, we can also unpack the tuples directly into variables\n",
    "for student, grade in student_grades:\n",
    "    print(f\"{student} received a grade of {grade}\")"
   ]
  },
  {
   "cell_type": "code",
   "execution_count": null,
   "metadata": {},
   "outputs": [],
   "source": [
    "# Example 3: Unpacking tuples during iteration II\n",
    "\n",
    "# If you only need partial information from the tuple, you can use '_' to hide the tuple elements you don't need.\n",
    "for student, _ in student_grades:\n",
    "    print(f\"{student} is in the list\")"
   ]
  },
  {
   "attachments": {},
   "cell_type": "markdown",
   "metadata": {},
   "source": [
    "## Exercises\n",
    "\n",
    "Now that you've learned the basics of for-loop and how to use it loop over various objects in Python, try the following exercises."
   ]
  },
  {
   "cell_type": "code",
   "execution_count": null,
   "metadata": {},
   "outputs": [],
   "source": [
    "# Exercise 1: Write a Python program to print all numbers provided in the list: [4, 5, 7, 9, 8, 1, 6, 7, 9, 10]."
   ]
  },
  {
   "cell_type": "code",
   "execution_count": null,
   "metadata": {},
   "outputs": [],
   "source": [
    "# Exercies 2: Use the same list from Exercise 1. Write a Python program to find the sum of all numbers."
   ]
  },
  {
   "cell_type": "code",
   "execution_count": null,
   "metadata": {},
   "outputs": [],
   "source": [
    "#Exercise 3: Given a list of tuples where each tuple contains the name of a student and their score in a test: [('John', 85), ('Sarah', 93), ('Michael', 90), ('Emma', 78)].\n",
    "# Write a Python program to print the name of each student and whether they passed or failed the test. A student passes the test if their score is greater than or equal to 80."
   ]
  },
  {
   "cell_type": "code",
   "execution_count": null,
   "metadata": {},
   "outputs": [],
   "source": [
    "#Exercise 4: Write a Python program that, given a string, prints out the string in reverse order. \n",
    "# For instance, given the string \"Python\", it should print: n o h t y P."
   ]
  },
  {
   "cell_type": "code",
   "execution_count": null,
   "metadata": {},
   "outputs": [],
   "source": [
    "# Exercise 5: Given a dictionary where the keys are employees' names and the values are their salaries: {'John': 50000, 'Sarah': 56000, 'Michael': 70000}.\n",
    "# Write a Python program to give a 10% raise to everyone and print the updated salary dictionary."
   ]
  },
  {
   "attachments": {},
   "cell_type": "markdown",
   "metadata": {},
   "source": [
    "## Congratulations!\n",
    "\n",
    "You have nailed Python for-loop statement! Keep going!"
   ]
  }
 ],
 "metadata": {
  "kernelspec": {
   "display_name": "base",
   "language": "python",
   "name": "python3"
  },
  "language_info": {
   "codemirror_mode": {
    "name": "ipython",
    "version": 3
   },
   "file_extension": ".py",
   "mimetype": "text/x-python",
   "name": "python",
   "nbconvert_exporter": "python",
   "pygments_lexer": "ipython3",
   "version": "3.6.3"
  },
  "orig_nbformat": 4,
  "vscode": {
   "interpreter": {
    "hash": "bd1fc50697c6a16b990523ef555a399dd1154269f321a4372c319ef0b4b4d5e7"
   }
  }
 },
 "nbformat": 4,
 "nbformat_minor": 2
}
