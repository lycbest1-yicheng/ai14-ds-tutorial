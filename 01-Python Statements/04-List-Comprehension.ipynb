{
 "cells": [
  {
   "cell_type": "markdown",
   "metadata": {},
   "source": [
    "___\n",
    "\n",
    "<center><img src='../AI14_logo.png'/></center>\n",
    "\n",
    "___\n",
    "<center><em>Content Copyright by AI14.io</em></center>"
   ]
  },
  {
   "cell_type": "markdown",
   "metadata": {},
   "source": [
    "# Python List Comprehension\n",
    "\n",
    "In this notebook, we will be learning about the list comprehension in Python.\n",
    "\n",
    "Let's get started!"
   ]
  },
  {
   "attachments": {},
   "cell_type": "markdown",
   "metadata": {},
   "source": [
    "## List Comprehension basics\n",
    "\n",
    "List comprehensions provide a concise way to create lists. They are a distinctive feature of Python and are used for their potential to make code more readable and efficient.\n",
    "\n",
    "A basic list comprehension follows the format below:\n",
    "\n",
    "new_list = [expression for member in iterable]"
   ]
  },
  {
   "cell_type": "code",
   "execution_count": null,
   "metadata": {},
   "outputs": [],
   "source": [
    "# Let's start with a basic list.\n",
    "nums = [0, 1, 2, 3, 4, 5, 6, 7, 8, 9]"
   ]
  },
  {
   "cell_type": "code",
   "execution_count": null,
   "metadata": {},
   "outputs": [],
   "source": [
    "# We can use a list comprehension to create a new list where every number in nums is multiplied by 2.\n",
    "# The format is [expression for item in list]\n",
    "\n",
    "doubled_nums = [num * 2 for num in nums]\n",
    "print(doubled_nums)"
   ]
  },
  {
   "attachments": {},
   "cell_type": "markdown",
   "metadata": {},
   "source": [
    "## Adding Conditionals\n",
    "\n",
    "List comprehensions can utilize conditional statement to modify existing list (or other tuples). We can create a list based on conditions placed on the original list."
   ]
  },
  {
   "cell_type": "code",
   "execution_count": null,
   "metadata": {},
   "outputs": [],
   "source": [
    "# We can also use list comprehension to filter items. Let's create a new list with only the even numbers from nums.\n",
    "# The format is [expression for item in list if condition]\n",
    "\n",
    "even_nums = [num for num in nums if num % 2 == 0]\n",
    "print(even_nums) "
   ]
  },
  {
   "attachments": {},
   "cell_type": "markdown",
   "metadata": {},
   "source": [
    "## Nesting List Comprehensions\n",
    "\n",
    "Python allows complex list comprehensions which consist of nested for loops. Let's take a look at the following example."
   ]
  },
  {
   "cell_type": "code",
   "execution_count": null,
   "metadata": {},
   "outputs": [],
   "source": [
    "# Flattening matrix\n",
    "matrix = [[1, 2, 3], [4, 5, 6], [7, 8, 9]]\n",
    "flattened_matrix = [num for row in matrix for num in row]\n",
    "print(flattened_matrix)"
   ]
  },
  {
   "cell_type": "code",
   "execution_count": null,
   "metadata": {},
   "outputs": [],
   "source": [
    "# This is equivalent to nested-for-loop\n",
    "flattened_matrix = []\n",
    "for row in matrix:\n",
    "    for num in row:\n",
    "        flattened_matrix.append(num)\n",
    "print(flattened_matrix)"
   ]
  },
  {
   "attachments": {},
   "cell_type": "markdown",
   "metadata": {},
   "source": [
    "## Other functions and operands\n",
    "\n",
    "List comprehensions can also include complex expressions and nested functions."
   ]
  },
  {
   "cell_type": "code",
   "execution_count": null,
   "metadata": {},
   "outputs": [],
   "source": [
    "#Here we are using a string method .upper() within the list comprehension.\n",
    "\n",
    "names = ['john', 'paul', 'george', 'ringo']\n",
    "uppercased_names = [name.upper() for name in names]\n",
    "print(uppercased_names) "
   ]
  },
  {
   "attachments": {},
   "cell_type": "markdown",
   "metadata": {},
   "source": [
    "## Exercises\n",
    "\n",
    "Now that you've learned the basics of list comprehension, try the following exercises."
   ]
  },
  {
   "cell_type": "code",
   "execution_count": null,
   "metadata": {},
   "outputs": [],
   "source": [
    "# Exercise 1: Given a list of numbers, write a list comprehension that produces a list of each number squared."
   ]
  },
  {
   "cell_type": "code",
   "execution_count": null,
   "metadata": {},
   "outputs": [],
   "source": [
    "# Exercise 2: Given a list of strings, write a list comprehension that produces a list of the lengths of those strings.\n",
    "# For example: input: ['hello', 'world', 'python'], output: [5, 5, 6]"
   ]
  },
  {
   "cell_type": "code",
   "execution_count": null,
   "metadata": {},
   "outputs": [],
   "source": [
    "# Exercise 3: Given a list of numbers, write a list comprehension that produces a list of all numbers in the list that are divisible by 5.\n",
    "# For example: input: [1, 5, 15, 20, 33, 40], output: [5, 15, 20, 40]"
   ]
  },
  {
   "attachments": {},
   "cell_type": "markdown",
   "metadata": {},
   "source": [
    "## Congratulations!\n",
    "\n",
    "You have nailed Python list comprehension statement! Keep going!"
   ]
  }
 ],
 "metadata": {
  "kernelspec": {
   "display_name": "base",
   "language": "python",
   "name": "python3"
  },
  "language_info": {
   "name": "python",
   "version": "3.6.3"
  },
  "orig_nbformat": 4,
  "vscode": {
   "interpreter": {
    "hash": "bd1fc50697c6a16b990523ef555a399dd1154269f321a4372c319ef0b4b4d5e7"
   }
  }
 },
 "nbformat": 4,
 "nbformat_minor": 2
}
