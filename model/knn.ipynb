{
 "cells": [
  {
   "cell_type": "code",
   "execution_count": 1,
   "metadata": {},
   "outputs": [],
   "source": [
    "import numpy as np"
   ]
  },
  {
   "cell_type": "code",
   "execution_count": 128,
   "metadata": {},
   "outputs": [],
   "source": [
    "###\n",
    "# X = [[x01,x02,...,x0d], [xN1,xN2,...,xNd]]\n",
    "# y = [y0,y1,y2,...,yN]\n",
    "# X_new = [x01, x02,...,x0d]\n",
    "###\n",
    "\n",
    "\n",
    "class KNN:\n",
    "    def __init__(self, k = 3):\n",
    "        self.X = None\n",
    "        self.y = None\n",
    "        self.k = k\n",
    "\n",
    "    def fit(self,X, y):\n",
    "        self.X = X\n",
    "        self.y = y\n",
    "\n",
    "    def predict(self, X_new, method = 'cos'):\n",
    "        dist = self.distance(X_new, self.X, method) #(N,M)\n",
    "        index = np.argsort(dist, axis = 0)[:self.k,:] #(K,M)\n",
    "        result = np.mean(self.y[index], axis = 0) #(M,)\n",
    "        return result\n",
    "\n",
    "    def distance(self, X_new, X, method = 'cos'):\n",
    "        if method == 'cos':\n",
    "            X_norm = np.sqrt(np.sum(X**2, axis = 1)) #(N,)\n",
    "            X_new_norm = np.sqrt(np.sum(X_new**2, axis = 1)) #(M,)\n",
    "            dot_prod = X @ X_new.T #(N,M)\n",
    "            norm = X_norm[:,np.newaxis] * X_new_norm[np.newaxis,:] #(N,M)\n",
    "            dist = 1-dot_prod/norm #(N,M)\n",
    "        elif method == 'euclid':\n",
    "            dist = np.sqrt(np.sum((X[:,np.newaxis,:] - X_new[np.newaxis,:])**2, axis = 2)) #(N,M)\n",
    "        return dist\n"
   ]
  },
  {
   "cell_type": "code",
   "execution_count": null,
   "metadata": {},
   "outputs": [],
   "source": [
    "#X (N,p)\n",
    "#X_new (M,p)\n",
    "#dist (M,N,p)\n",
    "\n",
    "# X (N,1,p)\n",
    "# X_new (1,M,p)\n",
    "# X - X_new (N,M,p)\n",
    "\n",
    "# np.sum((X-X_new)**2, axis = 2) (N,M)\n",
    "#distance want (M,k)"
   ]
  },
  {
   "cell_type": "code",
   "execution_count": 121,
   "metadata": {},
   "outputs": [],
   "source": [
    "def distance(X_new, X, method = 'cos'):\n",
    "    if method == 'cos':\n",
    "        X_norm = np.sqrt(np.sum(X**2, axis = 1)) #(N,)\n",
    "        X_new_norm = np.sqrt(np.sum(X_new**2, axis = 1)) #(M,)\n",
    "\n",
    "        dot_prod = X @ X_new.T #(N,M)\n",
    "        norm = X_norm[:,np.newaxis] * X_new_norm[np.newaxis,:] #(N,M)\n",
    "        dist = 1-dot_prod/norm #(N,M)\n",
    "    elif method == 'euclid':\n",
    "        dist = np.sqrt(np.sum((X[:,np.newaxis,:] - X_new[np.newaxis,:])**2, axis = 2)) #(N,M)\n",
    "    return dist"
   ]
  },
  {
   "cell_type": "code",
   "execution_count": 117,
   "metadata": {},
   "outputs": [],
   "source": [
    "X = np.array([[1,2,3],[2,3,4],[3,4,5]]) #(N,p)\n",
    "X_new = np.array([[1,2,3],[2,3,4]]) #(M,p)\n"
   ]
  },
  {
   "cell_type": "code",
   "execution_count": 124,
   "metadata": {},
   "outputs": [],
   "source": [
    "dist = distance(X_new,X,'cos')"
   ]
  },
  {
   "cell_type": "code",
   "execution_count": 127,
   "metadata": {},
   "outputs": [
    {
     "data": {
      "text/plain": [
       "array([[0, 1],\n",
       "       [1, 0]])"
      ]
     },
     "execution_count": 127,
     "metadata": {},
     "output_type": "execute_result"
    }
   ],
   "source": [
    "np.argsort(dist)[:2,:]"
   ]
  },
  {
   "cell_type": "code",
   "execution_count": 123,
   "metadata": {},
   "outputs": [
    {
     "data": {
      "text/plain": [
       "array([[0.        , 1.73205081],\n",
       "       [1.73205081, 0.        ],\n",
       "       [3.46410162, 1.73205081]])"
      ]
     },
     "execution_count": 123,
     "metadata": {},
     "output_type": "execute_result"
    }
   ],
   "source": [
    "distance(X_new,X,'euclid')"
   ]
  },
  {
   "cell_type": "code",
   "execution_count": 110,
   "metadata": {},
   "outputs": [],
   "source": [
    "# calculate cosine similarity\n",
    "\n",
    "# cos(x,y) = xy/(|x||y|)\n",
    "\n",
    "x = np.array([[1,2,3],[2,3,4],[3,4,5]]) #(N,p)\n",
    "y = np.array([[1,2,3],[2,3,4]]) #(M,p)\n",
    "\n",
    "x_norm = np.sqrt(np.sum(x**2, axis = 1)) #(N,)\n",
    "y_norm = np.sqrt(np.sum(y**2, axis = 1)) #(M,)\n",
    "\n",
    "dot_prod = x @ y.T #(N,M)\n",
    "norm = x_norm[:,np.newaxis] * y_norm[np.newaxis,:] #(N,M)\n",
    "dist = dot_prod/norm #(N,M)\n"
   ]
  },
  {
   "cell_type": "code",
   "execution_count": 111,
   "metadata": {},
   "outputs": [
    {
     "data": {
      "text/plain": [
       "array([[1.        , 0.99258333],\n",
       "       [0.99258333, 1.        ],\n",
       "       [0.98270763, 0.99792889]])"
      ]
     },
     "execution_count": 111,
     "metadata": {},
     "output_type": "execute_result"
    }
   ],
   "source": [
    "dist"
   ]
  },
  {
   "cell_type": "code",
   "execution_count": 108,
   "metadata": {},
   "outputs": [
    {
     "data": {
      "text/plain": [
       "array([[14.        , 20.14944168, 26.45751311],\n",
       "       [20.14944168, 29.        , 38.07886553]])"
      ]
     },
     "execution_count": 108,
     "metadata": {},
     "output_type": "execute_result"
    }
   ],
   "source": [
    "x_norm * y_norm[:,np.newaxis] #(M,N)"
   ]
  },
  {
   "cell_type": "code",
   "execution_count": 100,
   "metadata": {},
   "outputs": [
    {
     "data": {
      "text/plain": [
       "array([[0, 1],\n",
       "       [2, 0]])"
      ]
     },
     "execution_count": 100,
     "metadata": {},
     "output_type": "execute_result"
    }
   ],
   "source": [
    "np.argsort(dist, axis = 1)[:,:2]"
   ]
  },
  {
   "cell_type": "code",
   "execution_count": 79,
   "metadata": {},
   "outputs": [
    {
     "data": {
      "text/plain": [
       "(3,)"
      ]
     },
     "execution_count": 79,
     "metadata": {},
     "output_type": "execute_result"
    }
   ],
   "source": [
    "y = np.array([1,2,1])\n",
    "y.shape"
   ]
  },
  {
   "cell_type": "code",
   "execution_count": 84,
   "metadata": {},
   "outputs": [
    {
     "data": {
      "text/plain": [
       "array([[1, 2, 1]])"
      ]
     },
     "execution_count": 84,
     "metadata": {},
     "output_type": "execute_result"
    }
   ],
   "source": [
    "X = np.array([[2,2,2],[1,1,1], [3,3,3]])"
   ]
  },
  {
   "cell_type": "code",
   "execution_count": 73,
   "metadata": {},
   "outputs": [],
   "source": [
    "X = np.array([[2,2,2],[1,1,1], [3,3,3]])\n",
    "y = np.array([1,2,1])\n",
    "\n",
    "knn = KNN(2)\n",
    "knn.fit(X,y)"
   ]
  },
  {
   "cell_type": "code",
   "execution_count": 77,
   "metadata": {},
   "outputs": [
    {
     "name": "stdout",
     "output_type": "stream",
     "text": [
      "[[1.41421356 6.        ]\n",
      " [1.         7.14142843]\n",
      " [3.         5.19615242]]\n",
      "[[1 2]\n",
      " [0 0]]\n"
     ]
    },
    {
     "data": {
      "text/plain": [
       "array([1.5, 1. ])"
      ]
     },
     "execution_count": 77,
     "metadata": {},
     "output_type": "execute_result"
    }
   ],
   "source": [
    "X_new = np.array([[1,2,1], [2,8,2]])\n",
    "knn.predict(X_new, method = 'euclid')"
   ]
  },
  {
   "cell_type": "code",
   "execution_count": null,
   "metadata": {},
   "outputs": [],
   "source": []
  }
 ],
 "metadata": {
  "kernelspec": {
   "display_name": "machine-learning-env",
   "language": "python",
   "name": "python3"
  },
  "language_info": {
   "codemirror_mode": {
    "name": "ipython",
    "version": 3
   },
   "file_extension": ".py",
   "mimetype": "text/x-python",
   "name": "python",
   "nbconvert_exporter": "python",
   "pygments_lexer": "ipython3",
   "version": "3.8.16"
  },
  "orig_nbformat": 4,
  "vscode": {
   "interpreter": {
    "hash": "b3eb76b326b09fc188c796660944bff40b6d7c7003db3f64a588475032213368"
   }
  }
 },
 "nbformat": 4,
 "nbformat_minor": 2
}
