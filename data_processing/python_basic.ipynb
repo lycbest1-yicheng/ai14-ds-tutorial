{
 "cells": [
  {
   "attachments": {},
   "cell_type": "markdown",
   "metadata": {},
   "source": [
    "### String  processing"
   ]
  },
  {
   "cell_type": "code",
   "execution_count": 4,
   "metadata": {},
   "outputs": [],
   "source": [
    "import re"
   ]
  },
  {
   "cell_type": "code",
   "execution_count": 3,
   "metadata": {},
   "outputs": [
    {
     "data": {
      "text/plain": [
       "'abc cdd'"
      ]
     },
     "execution_count": 3,
     "metadata": {},
     "output_type": "execute_result"
    }
   ],
   "source": [
    "x = 'abc cdd%'\n",
    "x.strip('%')"
   ]
  },
  {
   "cell_type": "code",
   "execution_count": null,
   "metadata": {},
   "outputs": [],
   "source": [
    "#extract_dates(\"The event is scheduled on 2023-06-19 and the next one on 2024-07-20.\")\n",
    "#should return ['2023-06-19', '2024-07-20']."
   ]
  },
  {
   "cell_type": "code",
   "execution_count": 5,
   "metadata": {},
   "outputs": [
    {
     "data": {
      "text/plain": [
       "['2023-06-19', '2024-07-20']"
      ]
     },
     "execution_count": 5,
     "metadata": {},
     "output_type": "execute_result"
    }
   ],
   "source": [
    "text = 'The event is scheduled on 2023-06-19 and the next one on 2024-07-20.'\n",
    "\n",
    "pattern = '\\d{4}-\\d{2}-\\d{2}'\n",
    "\n",
    "re.findall(pattern, text)"
   ]
  },
  {
   "cell_type": "code",
   "execution_count": null,
   "metadata": {},
   "outputs": [],
   "source": [
    "# Write a function validate_password that takes a string password, and returns True if the password is at least 8 characters long, contains at least one uppercase letter, one lowercase letter, one digit, and one special character (!@#$%^&*()), and False otherwise.\n",
    "# validate_password(\"Password123!\") should return True.\n",
    "# validate_password(\"password\") should return False."
   ]
  }
 ],
 "metadata": {
  "kernelspec": {
   "display_name": "machine-learning-env",
   "language": "python",
   "name": "python3"
  },
  "language_info": {
   "codemirror_mode": {
    "name": "ipython",
    "version": 3
   },
   "file_extension": ".py",
   "mimetype": "text/x-python",
   "name": "python",
   "nbconvert_exporter": "python",
   "pygments_lexer": "ipython3",
   "version": "3.8.16"
  },
  "orig_nbformat": 4,
  "vscode": {
   "interpreter": {
    "hash": "b3eb76b326b09fc188c796660944bff40b6d7c7003db3f64a588475032213368"
   }
  }
 },
 "nbformat": 4,
 "nbformat_minor": 2
}
