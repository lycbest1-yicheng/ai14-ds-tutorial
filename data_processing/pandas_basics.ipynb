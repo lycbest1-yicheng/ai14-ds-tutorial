{
 "cells": [
  {
   "cell_type": "code",
   "execution_count": 2,
   "metadata": {},
   "outputs": [],
   "source": [
    "import pandas as pd\n",
    "import numpy as np\n",
    "from datetime import timedelta, datetime"
   ]
  },
  {
   "cell_type": "code",
   "execution_count": 64,
   "metadata": {},
   "outputs": [],
   "source": [
    "data = [\n",
    "    {\"guest_id\": 1, \"ds_checkin\": \"2023-06-16\", \"ds_checkout\": \"2023-06-20\", \"dim_market\":\"B\", \"price\": 100},\n",
    "    {\"guest_id\": 1, \"ds_checkin\": \"2023-06-10\", \"ds_checkout\": \"2023-06-15\", \"dim_market\":\"A\", \"price\": 200},\n",
    "    {\"guest_id\": 1, \"ds_checkin\": \"2023-06-21\", \"ds_checkout\": \"2023-06-25\", \"dim_market\":\"C\", \"price\": 400},\n",
    "    {\"guest_id\": 1, \"ds_checkin\": \"2023-07-01\", \"ds_checkout\": \"2023-07-05\", \"dim_market\":\"D\", \"price\": 300},\n",
    "    {\"guest_id\": 2, \"ds_checkin\": \"2023-07-02\", \"ds_checkout\": \"2023-07-07\", \"dim_market\":\"A\", \"price\": 120},\n",
    "    {\"guest_id\": 2, \"ds_checkin\": \"2023-07-21\", \"ds_checkout\": \"2023-07-22\", \"dim_market\":\"BB\", \"price\": 100}\n",
    "]\n",
    "df = pd.DataFrame(data)"
   ]
  },
  {
   "cell_type": "code",
   "execution_count": 65,
   "metadata": {},
   "outputs": [
    {
     "data": {
      "text/html": [
       "<div>\n",
       "<style scoped>\n",
       "    .dataframe tbody tr th:only-of-type {\n",
       "        vertical-align: middle;\n",
       "    }\n",
       "\n",
       "    .dataframe tbody tr th {\n",
       "        vertical-align: top;\n",
       "    }\n",
       "\n",
       "    .dataframe thead th {\n",
       "        text-align: right;\n",
       "    }\n",
       "</style>\n",
       "<table border=\"1\" class=\"dataframe\">\n",
       "  <thead>\n",
       "    <tr style=\"text-align: right;\">\n",
       "      <th></th>\n",
       "      <th>guest_id</th>\n",
       "      <th>ds_checkin</th>\n",
       "      <th>ds_checkout</th>\n",
       "      <th>dim_market</th>\n",
       "      <th>price</th>\n",
       "    </tr>\n",
       "  </thead>\n",
       "  <tbody>\n",
       "    <tr>\n",
       "      <th>0</th>\n",
       "      <td>1</td>\n",
       "      <td>2023-06-16</td>\n",
       "      <td>2023-06-20</td>\n",
       "      <td>B</td>\n",
       "      <td>100</td>\n",
       "    </tr>\n",
       "    <tr>\n",
       "      <th>1</th>\n",
       "      <td>1</td>\n",
       "      <td>2023-06-10</td>\n",
       "      <td>2023-06-15</td>\n",
       "      <td>A</td>\n",
       "      <td>200</td>\n",
       "    </tr>\n",
       "    <tr>\n",
       "      <th>2</th>\n",
       "      <td>1</td>\n",
       "      <td>2023-06-21</td>\n",
       "      <td>2023-06-25</td>\n",
       "      <td>C</td>\n",
       "      <td>400</td>\n",
       "    </tr>\n",
       "    <tr>\n",
       "      <th>3</th>\n",
       "      <td>1</td>\n",
       "      <td>2023-07-01</td>\n",
       "      <td>2023-07-05</td>\n",
       "      <td>D</td>\n",
       "      <td>300</td>\n",
       "    </tr>\n",
       "    <tr>\n",
       "      <th>4</th>\n",
       "      <td>2</td>\n",
       "      <td>2023-07-02</td>\n",
       "      <td>2023-07-07</td>\n",
       "      <td>A</td>\n",
       "      <td>120</td>\n",
       "    </tr>\n",
       "    <tr>\n",
       "      <th>5</th>\n",
       "      <td>2</td>\n",
       "      <td>2023-07-21</td>\n",
       "      <td>2023-07-22</td>\n",
       "      <td>BB</td>\n",
       "      <td>100</td>\n",
       "    </tr>\n",
       "  </tbody>\n",
       "</table>\n",
       "</div>"
      ],
      "text/plain": [
       "   guest_id  ds_checkin ds_checkout dim_market  price\n",
       "0         1  2023-06-16  2023-06-20          B    100\n",
       "1         1  2023-06-10  2023-06-15          A    200\n",
       "2         1  2023-06-21  2023-06-25          C    400\n",
       "3         1  2023-07-01  2023-07-05          D    300\n",
       "4         2  2023-07-02  2023-07-07          A    120\n",
       "5         2  2023-07-21  2023-07-22         BB    100"
      ]
     },
     "execution_count": 65,
     "metadata": {},
     "output_type": "execute_result"
    }
   ],
   "source": [
    "df"
   ]
  },
  {
   "cell_type": "code",
   "execution_count": 66,
   "metadata": {},
   "outputs": [
    {
     "data": {
      "text/plain": [
       "array([1, 1, 1, 1, 2, 2])"
      ]
     },
     "execution_count": 66,
     "metadata": {},
     "output_type": "execute_result"
    }
   ],
   "source": [
    "# Extract numpy array from \n",
    "df['guest_id'].values"
   ]
  },
  {
   "attachments": {},
   "cell_type": "markdown",
   "metadata": {},
   "source": [
    "## Simple transformation"
   ]
  },
  {
   "cell_type": "code",
   "execution_count": 52,
   "metadata": {},
   "outputs": [],
   "source": [
    "# Binning numerical columns into categorical by quantiles\n",
    "df['price_bin'] = pd.qcut(df['price'], 4, labels = ['q1','q2','q3','q4'])"
   ]
  },
  {
   "cell_type": "code",
   "execution_count": 53,
   "metadata": {},
   "outputs": [
    {
     "data": {
      "text/html": [
       "<div>\n",
       "<style scoped>\n",
       "    .dataframe tbody tr th:only-of-type {\n",
       "        vertical-align: middle;\n",
       "    }\n",
       "\n",
       "    .dataframe tbody tr th {\n",
       "        vertical-align: top;\n",
       "    }\n",
       "\n",
       "    .dataframe thead th {\n",
       "        text-align: right;\n",
       "    }\n",
       "</style>\n",
       "<table border=\"1\" class=\"dataframe\">\n",
       "  <thead>\n",
       "    <tr style=\"text-align: right;\">\n",
       "      <th></th>\n",
       "      <th>guest_id</th>\n",
       "      <th>ds_checkin</th>\n",
       "      <th>ds_checkout</th>\n",
       "      <th>dim_market</th>\n",
       "      <th>price</th>\n",
       "      <th>price_bin</th>\n",
       "    </tr>\n",
       "  </thead>\n",
       "  <tbody>\n",
       "    <tr>\n",
       "      <th>0</th>\n",
       "      <td>1</td>\n",
       "      <td>2023-06-16</td>\n",
       "      <td>2023-06-20</td>\n",
       "      <td>B</td>\n",
       "      <td>100</td>\n",
       "      <td>q1</td>\n",
       "    </tr>\n",
       "    <tr>\n",
       "      <th>1</th>\n",
       "      <td>1</td>\n",
       "      <td>2023-06-10</td>\n",
       "      <td>2023-06-15</td>\n",
       "      <td>A</td>\n",
       "      <td>200</td>\n",
       "      <td>q3</td>\n",
       "    </tr>\n",
       "    <tr>\n",
       "      <th>2</th>\n",
       "      <td>1</td>\n",
       "      <td>2023-06-21</td>\n",
       "      <td>2023-06-25</td>\n",
       "      <td>C</td>\n",
       "      <td>400</td>\n",
       "      <td>q4</td>\n",
       "    </tr>\n",
       "    <tr>\n",
       "      <th>3</th>\n",
       "      <td>1</td>\n",
       "      <td>2023-07-01</td>\n",
       "      <td>2023-07-05</td>\n",
       "      <td>D</td>\n",
       "      <td>300</td>\n",
       "      <td>q4</td>\n",
       "    </tr>\n",
       "    <tr>\n",
       "      <th>4</th>\n",
       "      <td>2</td>\n",
       "      <td>2023-07-02</td>\n",
       "      <td>2023-07-07</td>\n",
       "      <td>A</td>\n",
       "      <td>120</td>\n",
       "      <td>q2</td>\n",
       "    </tr>\n",
       "    <tr>\n",
       "      <th>5</th>\n",
       "      <td>2</td>\n",
       "      <td>2023-07-21</td>\n",
       "      <td>2023-07-22</td>\n",
       "      <td>BB</td>\n",
       "      <td>100</td>\n",
       "      <td>q1</td>\n",
       "    </tr>\n",
       "  </tbody>\n",
       "</table>\n",
       "</div>"
      ],
      "text/plain": [
       "   guest_id  ds_checkin ds_checkout dim_market  price price_bin\n",
       "0         1  2023-06-16  2023-06-20          B    100        q1\n",
       "1         1  2023-06-10  2023-06-15          A    200        q3\n",
       "2         1  2023-06-21  2023-06-25          C    400        q4\n",
       "3         1  2023-07-01  2023-07-05          D    300        q4\n",
       "4         2  2023-07-02  2023-07-07          A    120        q2\n",
       "5         2  2023-07-21  2023-07-22         BB    100        q1"
      ]
     },
     "execution_count": 53,
     "metadata": {},
     "output_type": "execute_result"
    }
   ],
   "source": [
    "df"
   ]
  },
  {
   "attachments": {},
   "cell_type": "markdown",
   "metadata": {},
   "source": [
    "# Datetime formatting"
   ]
  },
  {
   "cell_type": "code",
   "execution_count": 18,
   "metadata": {},
   "outputs": [],
   "source": [
    "df['ds_checkin'] = pd.to_datetime(df['ds_checkin'], format = \"%Y-%m-%d\")\n",
    "df['ds_checkout'] = df['ds_checkout'].apply(lambda x: datetime.strptime(x, \"%Y-%m-%d\"))"
   ]
  },
  {
   "cell_type": "code",
   "execution_count": 19,
   "metadata": {},
   "outputs": [
    {
     "data": {
      "text/html": [
       "<div>\n",
       "<style scoped>\n",
       "    .dataframe tbody tr th:only-of-type {\n",
       "        vertical-align: middle;\n",
       "    }\n",
       "\n",
       "    .dataframe tbody tr th {\n",
       "        vertical-align: top;\n",
       "    }\n",
       "\n",
       "    .dataframe thead th {\n",
       "        text-align: right;\n",
       "    }\n",
       "</style>\n",
       "<table border=\"1\" class=\"dataframe\">\n",
       "  <thead>\n",
       "    <tr style=\"text-align: right;\">\n",
       "      <th></th>\n",
       "      <th>guest_id</th>\n",
       "      <th>ds_checkin</th>\n",
       "      <th>ds_checkout</th>\n",
       "      <th>dim_market</th>\n",
       "    </tr>\n",
       "  </thead>\n",
       "  <tbody>\n",
       "    <tr>\n",
       "      <th>0</th>\n",
       "      <td>1</td>\n",
       "      <td>2023-06-16</td>\n",
       "      <td>2023-06-20</td>\n",
       "      <td>B</td>\n",
       "    </tr>\n",
       "    <tr>\n",
       "      <th>1</th>\n",
       "      <td>1</td>\n",
       "      <td>2023-06-10</td>\n",
       "      <td>2023-06-15</td>\n",
       "      <td>A</td>\n",
       "    </tr>\n",
       "    <tr>\n",
       "      <th>2</th>\n",
       "      <td>1</td>\n",
       "      <td>2023-06-21</td>\n",
       "      <td>2023-06-25</td>\n",
       "      <td>C</td>\n",
       "    </tr>\n",
       "    <tr>\n",
       "      <th>3</th>\n",
       "      <td>1</td>\n",
       "      <td>2023-07-01</td>\n",
       "      <td>2023-07-05</td>\n",
       "      <td>D</td>\n",
       "    </tr>\n",
       "    <tr>\n",
       "      <th>4</th>\n",
       "      <td>2</td>\n",
       "      <td>2023-07-02</td>\n",
       "      <td>2023-07-07</td>\n",
       "      <td>A</td>\n",
       "    </tr>\n",
       "    <tr>\n",
       "      <th>5</th>\n",
       "      <td>2</td>\n",
       "      <td>2023-07-21</td>\n",
       "      <td>2023-07-22</td>\n",
       "      <td>BB</td>\n",
       "    </tr>\n",
       "  </tbody>\n",
       "</table>\n",
       "</div>"
      ],
      "text/plain": [
       "   guest_id ds_checkin ds_checkout dim_market\n",
       "0         1 2023-06-16  2023-06-20          B\n",
       "1         1 2023-06-10  2023-06-15          A\n",
       "2         1 2023-06-21  2023-06-25          C\n",
       "3         1 2023-07-01  2023-07-05          D\n",
       "4         2 2023-07-02  2023-07-07          A\n",
       "5         2 2023-07-21  2023-07-22         BB"
      ]
     },
     "execution_count": 19,
     "metadata": {},
     "output_type": "execute_result"
    }
   ],
   "source": [
    "df"
   ]
  },
  {
   "attachments": {},
   "cell_type": "markdown",
   "metadata": {},
   "source": [
    "## Sort dataframe"
   ]
  },
  {
   "cell_type": "code",
   "execution_count": 20,
   "metadata": {},
   "outputs": [],
   "source": [
    "df = df.sort_values(by = ['guest_id', 'ds_checkin', 'ds_checkout'], ascending = [True, True, True])"
   ]
  },
  {
   "cell_type": "code",
   "execution_count": 99,
   "metadata": {},
   "outputs": [
    {
     "data": {
      "text/html": [
       "<div>\n",
       "<style scoped>\n",
       "    .dataframe tbody tr th:only-of-type {\n",
       "        vertical-align: middle;\n",
       "    }\n",
       "\n",
       "    .dataframe tbody tr th {\n",
       "        vertical-align: top;\n",
       "    }\n",
       "\n",
       "    .dataframe thead th {\n",
       "        text-align: right;\n",
       "    }\n",
       "</style>\n",
       "<table border=\"1\" class=\"dataframe\">\n",
       "  <thead>\n",
       "    <tr style=\"text-align: right;\">\n",
       "      <th></th>\n",
       "      <th>guest_id</th>\n",
       "      <th>ds_checkin</th>\n",
       "      <th>ds_checkout</th>\n",
       "      <th>dim_market</th>\n",
       "      <th>price</th>\n",
       "      <th>ds_checkin_rank</th>\n",
       "      <th>ds_checkin_rank_1</th>\n",
       "    </tr>\n",
       "  </thead>\n",
       "  <tbody>\n",
       "    <tr>\n",
       "      <th>1</th>\n",
       "      <td>1</td>\n",
       "      <td>2023-06-10</td>\n",
       "      <td>2023-06-15</td>\n",
       "      <td>A</td>\n",
       "      <td>200</td>\n",
       "      <td>1.0</td>\n",
       "      <td>2.0</td>\n",
       "    </tr>\n",
       "    <tr>\n",
       "      <th>0</th>\n",
       "      <td>1</td>\n",
       "      <td>2023-06-16</td>\n",
       "      <td>2023-06-20</td>\n",
       "      <td>B</td>\n",
       "      <td>100</td>\n",
       "      <td>2.0</td>\n",
       "      <td>3.0</td>\n",
       "    </tr>\n",
       "    <tr>\n",
       "      <th>2</th>\n",
       "      <td>1</td>\n",
       "      <td>2023-06-21</td>\n",
       "      <td>2023-06-25</td>\n",
       "      <td>C</td>\n",
       "      <td>400</td>\n",
       "      <td>3.0</td>\n",
       "      <td>4.0</td>\n",
       "    </tr>\n",
       "    <tr>\n",
       "      <th>3</th>\n",
       "      <td>1</td>\n",
       "      <td>2023-07-01</td>\n",
       "      <td>2023-07-05</td>\n",
       "      <td>D</td>\n",
       "      <td>300</td>\n",
       "      <td>4.0</td>\n",
       "      <td>5.0</td>\n",
       "    </tr>\n",
       "    <tr>\n",
       "      <th>4</th>\n",
       "      <td>2</td>\n",
       "      <td>2023-07-02</td>\n",
       "      <td>2023-07-07</td>\n",
       "      <td>A</td>\n",
       "      <td>120</td>\n",
       "      <td>1.0</td>\n",
       "      <td>2.0</td>\n",
       "    </tr>\n",
       "    <tr>\n",
       "      <th>5</th>\n",
       "      <td>2</td>\n",
       "      <td>2023-07-21</td>\n",
       "      <td>2023-07-22</td>\n",
       "      <td>BB</td>\n",
       "      <td>100</td>\n",
       "      <td>2.0</td>\n",
       "      <td>3.0</td>\n",
       "    </tr>\n",
       "  </tbody>\n",
       "</table>\n",
       "</div>"
      ],
      "text/plain": [
       "   guest_id  ds_checkin ds_checkout dim_market  price  ds_checkin_rank  \\\n",
       "1         1  2023-06-10  2023-06-15          A    200              1.0   \n",
       "0         1  2023-06-16  2023-06-20          B    100              2.0   \n",
       "2         1  2023-06-21  2023-06-25          C    400              3.0   \n",
       "3         1  2023-07-01  2023-07-05          D    300              4.0   \n",
       "4         2  2023-07-02  2023-07-07          A    120              1.0   \n",
       "5         2  2023-07-21  2023-07-22         BB    100              2.0   \n",
       "\n",
       "   ds_checkin_rank_1  \n",
       "1                2.0  \n",
       "0                3.0  \n",
       "2                4.0  \n",
       "3                5.0  \n",
       "4                2.0  \n",
       "5                3.0  "
      ]
     },
     "execution_count": 99,
     "metadata": {},
     "output_type": "execute_result"
    }
   ],
   "source": [
    "df"
   ]
  },
  {
   "cell_type": "code",
   "execution_count": 105,
   "metadata": {},
   "outputs": [
    {
     "data": {
      "text/plain": [
       "guest_id\n",
       "1    250.0\n",
       "2    110.0\n",
       "Name: price, dtype: float64"
      ]
     },
     "execution_count": 105,
     "metadata": {},
     "output_type": "execute_result"
    }
   ],
   "source": [
    "df.groupby('guest_id').price.agg(lambda x: x.mean())"
   ]
  },
  {
   "attachments": {},
   "cell_type": "markdown",
   "metadata": {},
   "source": [
    "## Grouping and transform"
   ]
  },
  {
   "cell_type": "code",
   "execution_count": 22,
   "metadata": {},
   "outputs": [],
   "source": [
    "df['ds_checkout_shift'] = df.groupby('guest_id')['ds_checkout'].shift(1)"
   ]
  },
  {
   "cell_type": "code",
   "execution_count": 24,
   "metadata": {},
   "outputs": [
    {
     "data": {
      "text/html": [
       "<div>\n",
       "<style scoped>\n",
       "    .dataframe tbody tr th:only-of-type {\n",
       "        vertical-align: middle;\n",
       "    }\n",
       "\n",
       "    .dataframe tbody tr th {\n",
       "        vertical-align: top;\n",
       "    }\n",
       "\n",
       "    .dataframe thead th {\n",
       "        text-align: right;\n",
       "    }\n",
       "</style>\n",
       "<table border=\"1\" class=\"dataframe\">\n",
       "  <thead>\n",
       "    <tr style=\"text-align: right;\">\n",
       "      <th></th>\n",
       "      <th>guest_id</th>\n",
       "      <th>ds_checkin</th>\n",
       "      <th>ds_checkout</th>\n",
       "      <th>dim_market</th>\n",
       "      <th>ds_checkout_shift</th>\n",
       "    </tr>\n",
       "  </thead>\n",
       "  <tbody>\n",
       "    <tr>\n",
       "      <th>1</th>\n",
       "      <td>1</td>\n",
       "      <td>2023-06-10</td>\n",
       "      <td>2023-06-15</td>\n",
       "      <td>A</td>\n",
       "      <td>NaT</td>\n",
       "    </tr>\n",
       "    <tr>\n",
       "      <th>0</th>\n",
       "      <td>1</td>\n",
       "      <td>2023-06-16</td>\n",
       "      <td>2023-06-20</td>\n",
       "      <td>B</td>\n",
       "      <td>2023-06-15</td>\n",
       "    </tr>\n",
       "    <tr>\n",
       "      <th>2</th>\n",
       "      <td>1</td>\n",
       "      <td>2023-06-21</td>\n",
       "      <td>2023-06-25</td>\n",
       "      <td>C</td>\n",
       "      <td>2023-06-20</td>\n",
       "    </tr>\n",
       "    <tr>\n",
       "      <th>3</th>\n",
       "      <td>1</td>\n",
       "      <td>2023-07-01</td>\n",
       "      <td>2023-07-05</td>\n",
       "      <td>D</td>\n",
       "      <td>2023-06-25</td>\n",
       "    </tr>\n",
       "    <tr>\n",
       "      <th>4</th>\n",
       "      <td>2</td>\n",
       "      <td>2023-07-02</td>\n",
       "      <td>2023-07-07</td>\n",
       "      <td>A</td>\n",
       "      <td>NaT</td>\n",
       "    </tr>\n",
       "    <tr>\n",
       "      <th>5</th>\n",
       "      <td>2</td>\n",
       "      <td>2023-07-21</td>\n",
       "      <td>2023-07-22</td>\n",
       "      <td>BB</td>\n",
       "      <td>2023-07-07</td>\n",
       "    </tr>\n",
       "  </tbody>\n",
       "</table>\n",
       "</div>"
      ],
      "text/plain": [
       "   guest_id ds_checkin ds_checkout dim_market ds_checkout_shift\n",
       "1         1 2023-06-10  2023-06-15          A               NaT\n",
       "0         1 2023-06-16  2023-06-20          B        2023-06-15\n",
       "2         1 2023-06-21  2023-06-25          C        2023-06-20\n",
       "3         1 2023-07-01  2023-07-05          D        2023-06-25\n",
       "4         2 2023-07-02  2023-07-07          A               NaT\n",
       "5         2 2023-07-21  2023-07-22         BB        2023-07-07"
      ]
     },
     "execution_count": 24,
     "metadata": {},
     "output_type": "execute_result"
    }
   ],
   "source": [
    "df"
   ]
  },
  {
   "cell_type": "code",
   "execution_count": 27,
   "metadata": {},
   "outputs": [],
   "source": [
    "df['time_delta'] = (df['ds_checkin'] - df['ds_checkout_shift']).dt.days"
   ]
  },
  {
   "cell_type": "code",
   "execution_count": 28,
   "metadata": {},
   "outputs": [
    {
     "data": {
      "text/html": [
       "<div>\n",
       "<style scoped>\n",
       "    .dataframe tbody tr th:only-of-type {\n",
       "        vertical-align: middle;\n",
       "    }\n",
       "\n",
       "    .dataframe tbody tr th {\n",
       "        vertical-align: top;\n",
       "    }\n",
       "\n",
       "    .dataframe thead th {\n",
       "        text-align: right;\n",
       "    }\n",
       "</style>\n",
       "<table border=\"1\" class=\"dataframe\">\n",
       "  <thead>\n",
       "    <tr style=\"text-align: right;\">\n",
       "      <th></th>\n",
       "      <th>guest_id</th>\n",
       "      <th>ds_checkin</th>\n",
       "      <th>ds_checkout</th>\n",
       "      <th>dim_market</th>\n",
       "      <th>ds_checkout_shift</th>\n",
       "      <th>time_delta</th>\n",
       "    </tr>\n",
       "  </thead>\n",
       "  <tbody>\n",
       "    <tr>\n",
       "      <th>1</th>\n",
       "      <td>1</td>\n",
       "      <td>2023-06-10</td>\n",
       "      <td>2023-06-15</td>\n",
       "      <td>A</td>\n",
       "      <td>NaT</td>\n",
       "      <td>NaN</td>\n",
       "    </tr>\n",
       "    <tr>\n",
       "      <th>0</th>\n",
       "      <td>1</td>\n",
       "      <td>2023-06-16</td>\n",
       "      <td>2023-06-20</td>\n",
       "      <td>B</td>\n",
       "      <td>2023-06-15</td>\n",
       "      <td>1.0</td>\n",
       "    </tr>\n",
       "    <tr>\n",
       "      <th>2</th>\n",
       "      <td>1</td>\n",
       "      <td>2023-06-21</td>\n",
       "      <td>2023-06-25</td>\n",
       "      <td>C</td>\n",
       "      <td>2023-06-20</td>\n",
       "      <td>1.0</td>\n",
       "    </tr>\n",
       "    <tr>\n",
       "      <th>3</th>\n",
       "      <td>1</td>\n",
       "      <td>2023-07-01</td>\n",
       "      <td>2023-07-05</td>\n",
       "      <td>D</td>\n",
       "      <td>2023-06-25</td>\n",
       "      <td>6.0</td>\n",
       "    </tr>\n",
       "    <tr>\n",
       "      <th>4</th>\n",
       "      <td>2</td>\n",
       "      <td>2023-07-02</td>\n",
       "      <td>2023-07-07</td>\n",
       "      <td>A</td>\n",
       "      <td>NaT</td>\n",
       "      <td>NaN</td>\n",
       "    </tr>\n",
       "    <tr>\n",
       "      <th>5</th>\n",
       "      <td>2</td>\n",
       "      <td>2023-07-21</td>\n",
       "      <td>2023-07-22</td>\n",
       "      <td>BB</td>\n",
       "      <td>2023-07-07</td>\n",
       "      <td>14.0</td>\n",
       "    </tr>\n",
       "  </tbody>\n",
       "</table>\n",
       "</div>"
      ],
      "text/plain": [
       "   guest_id ds_checkin ds_checkout dim_market ds_checkout_shift  time_delta\n",
       "1         1 2023-06-10  2023-06-15          A               NaT         NaN\n",
       "0         1 2023-06-16  2023-06-20          B        2023-06-15         1.0\n",
       "2         1 2023-06-21  2023-06-25          C        2023-06-20         1.0\n",
       "3         1 2023-07-01  2023-07-05          D        2023-06-25         6.0\n",
       "4         2 2023-07-02  2023-07-07          A               NaT         NaN\n",
       "5         2 2023-07-21  2023-07-22         BB        2023-07-07        14.0"
      ]
     },
     "execution_count": 28,
     "metadata": {},
     "output_type": "execute_result"
    }
   ],
   "source": [
    "df"
   ]
  },
  {
   "cell_type": "code",
   "execution_count": 81,
   "metadata": {},
   "outputs": [],
   "source": [
    "df['ds_checkin_rank'] = df.groupby('guest_id').ds_checkin.rank(method = 'first', ascending = True)"
   ]
  },
  {
   "cell_type": "code",
   "execution_count": 97,
   "metadata": {},
   "outputs": [
    {
     "data": {
      "text/html": [
       "<div>\n",
       "<style scoped>\n",
       "    .dataframe tbody tr th:only-of-type {\n",
       "        vertical-align: middle;\n",
       "    }\n",
       "\n",
       "    .dataframe tbody tr th {\n",
       "        vertical-align: top;\n",
       "    }\n",
       "\n",
       "    .dataframe thead th {\n",
       "        text-align: right;\n",
       "    }\n",
       "</style>\n",
       "<table border=\"1\" class=\"dataframe\">\n",
       "  <thead>\n",
       "    <tr style=\"text-align: right;\">\n",
       "      <th></th>\n",
       "      <th>guest_id</th>\n",
       "      <th>dim_market</th>\n",
       "    </tr>\n",
       "  </thead>\n",
       "  <tbody>\n",
       "    <tr>\n",
       "      <th>0</th>\n",
       "      <td>1</td>\n",
       "      <td>[A, B, C, D]</td>\n",
       "    </tr>\n",
       "    <tr>\n",
       "      <th>1</th>\n",
       "      <td>2</td>\n",
       "      <td>[A, BB]</td>\n",
       "    </tr>\n",
       "  </tbody>\n",
       "</table>\n",
       "</div>"
      ],
      "text/plain": [
       "   guest_id    dim_market\n",
       "0         1  [A, B, C, D]\n",
       "1         2       [A, BB]"
      ]
     },
     "execution_count": 97,
     "metadata": {},
     "output_type": "execute_result"
    }
   ],
   "source": [
    "df_market = df.groupby('guest_id').dim_market.apply(lambda x: list(x)).reset_index()\n",
    "df_market"
   ]
  },
  {
   "cell_type": "code",
   "execution_count": 98,
   "metadata": {},
   "outputs": [
    {
     "data": {
      "text/html": [
       "<div>\n",
       "<style scoped>\n",
       "    .dataframe tbody tr th:only-of-type {\n",
       "        vertical-align: middle;\n",
       "    }\n",
       "\n",
       "    .dataframe tbody tr th {\n",
       "        vertical-align: top;\n",
       "    }\n",
       "\n",
       "    .dataframe thead th {\n",
       "        text-align: right;\n",
       "    }\n",
       "</style>\n",
       "<table border=\"1\" class=\"dataframe\">\n",
       "  <thead>\n",
       "    <tr style=\"text-align: right;\">\n",
       "      <th></th>\n",
       "      <th>guest_id</th>\n",
       "      <th>dim_market</th>\n",
       "    </tr>\n",
       "  </thead>\n",
       "  <tbody>\n",
       "    <tr>\n",
       "      <th>0</th>\n",
       "      <td>1</td>\n",
       "      <td>A</td>\n",
       "    </tr>\n",
       "    <tr>\n",
       "      <th>0</th>\n",
       "      <td>1</td>\n",
       "      <td>B</td>\n",
       "    </tr>\n",
       "    <tr>\n",
       "      <th>0</th>\n",
       "      <td>1</td>\n",
       "      <td>C</td>\n",
       "    </tr>\n",
       "    <tr>\n",
       "      <th>0</th>\n",
       "      <td>1</td>\n",
       "      <td>D</td>\n",
       "    </tr>\n",
       "    <tr>\n",
       "      <th>1</th>\n",
       "      <td>2</td>\n",
       "      <td>A</td>\n",
       "    </tr>\n",
       "    <tr>\n",
       "      <th>1</th>\n",
       "      <td>2</td>\n",
       "      <td>BB</td>\n",
       "    </tr>\n",
       "  </tbody>\n",
       "</table>\n",
       "</div>"
      ],
      "text/plain": [
       "   guest_id dim_market\n",
       "0         1          A\n",
       "0         1          B\n",
       "0         1          C\n",
       "0         1          D\n",
       "1         2          A\n",
       "1         2         BB"
      ]
     },
     "execution_count": 98,
     "metadata": {},
     "output_type": "execute_result"
    }
   ],
   "source": [
    "df_market.explode('dim_market')"
   ]
  },
  {
   "cell_type": "code",
   "execution_count": null,
   "metadata": {},
   "outputs": [],
   "source": []
  },
  {
   "attachments": {},
   "cell_type": "markdown",
   "metadata": {},
   "source": [
    "## Assign values by condition"
   ]
  },
  {
   "cell_type": "code",
   "execution_count": 29,
   "metadata": {},
   "outputs": [],
   "source": [
    "df.loc[(df.time_delta.isnull()) | (df.time_delta > 3), 'trip_first_ds'] = df.loc[(df.time_delta.isnull()) | (df.time_delta > 3), 'ds_checkin']\n"
   ]
  },
  {
   "attachments": {},
   "cell_type": "markdown",
   "metadata": {},
   "source": [
    "## Filling missing data"
   ]
  },
  {
   "cell_type": "code",
   "execution_count": 31,
   "metadata": {},
   "outputs": [],
   "source": [
    "df['trip_first_ds'] = df['trip_first_ds'].fillna(method = 'ffill')"
   ]
  },
  {
   "cell_type": "code",
   "execution_count": 36,
   "metadata": {},
   "outputs": [
    {
     "data": {
      "text/html": [
       "<div>\n",
       "<style scoped>\n",
       "    .dataframe tbody tr th:only-of-type {\n",
       "        vertical-align: middle;\n",
       "    }\n",
       "\n",
       "    .dataframe tbody tr th {\n",
       "        vertical-align: top;\n",
       "    }\n",
       "\n",
       "    .dataframe thead th {\n",
       "        text-align: right;\n",
       "    }\n",
       "</style>\n",
       "<table border=\"1\" class=\"dataframe\">\n",
       "  <thead>\n",
       "    <tr style=\"text-align: right;\">\n",
       "      <th></th>\n",
       "      <th>guest_id</th>\n",
       "      <th>trip_first_ds</th>\n",
       "      <th>dim_market</th>\n",
       "    </tr>\n",
       "  </thead>\n",
       "  <tbody>\n",
       "    <tr>\n",
       "      <th>0</th>\n",
       "      <td>1</td>\n",
       "      <td>2023-06-10</td>\n",
       "      <td>A</td>\n",
       "    </tr>\n",
       "    <tr>\n",
       "      <th>1</th>\n",
       "      <td>1</td>\n",
       "      <td>2023-07-01</td>\n",
       "      <td>D</td>\n",
       "    </tr>\n",
       "    <tr>\n",
       "      <th>2</th>\n",
       "      <td>2</td>\n",
       "      <td>2023-07-02</td>\n",
       "      <td>A</td>\n",
       "    </tr>\n",
       "    <tr>\n",
       "      <th>3</th>\n",
       "      <td>2</td>\n",
       "      <td>2023-07-21</td>\n",
       "      <td>BB</td>\n",
       "    </tr>\n",
       "  </tbody>\n",
       "</table>\n",
       "</div>"
      ],
      "text/plain": [
       "   guest_id trip_first_ds dim_market\n",
       "0         1    2023-06-10          A\n",
       "1         1    2023-07-01          D\n",
       "2         2    2023-07-02          A\n",
       "3         2    2023-07-21         BB"
      ]
     },
     "execution_count": 36,
     "metadata": {},
     "output_type": "execute_result"
    }
   ],
   "source": [
    "# grouping and aggregation\n",
    "result1 = df.groupby(['guest_id', 'trip_first_ds']).dim_market.first().reset_index()\n",
    "result1"
   ]
  },
  {
   "cell_type": "code",
   "execution_count": 38,
   "metadata": {},
   "outputs": [
    {
     "data": {
      "text/html": [
       "<div>\n",
       "<style scoped>\n",
       "    .dataframe tbody tr th:only-of-type {\n",
       "        vertical-align: middle;\n",
       "    }\n",
       "\n",
       "    .dataframe tbody tr th {\n",
       "        vertical-align: top;\n",
       "    }\n",
       "\n",
       "    .dataframe thead th {\n",
       "        text-align: right;\n",
       "    }\n",
       "</style>\n",
       "<table border=\"1\" class=\"dataframe\">\n",
       "  <thead>\n",
       "    <tr style=\"text-align: right;\">\n",
       "      <th></th>\n",
       "      <th>guest_id</th>\n",
       "      <th>trip_first_ds</th>\n",
       "      <th>dim_market</th>\n",
       "    </tr>\n",
       "  </thead>\n",
       "  <tbody>\n",
       "    <tr>\n",
       "      <th>0</th>\n",
       "      <td>1</td>\n",
       "      <td>2023-06-10</td>\n",
       "      <td>3</td>\n",
       "    </tr>\n",
       "    <tr>\n",
       "      <th>1</th>\n",
       "      <td>1</td>\n",
       "      <td>2023-07-01</td>\n",
       "      <td>1</td>\n",
       "    </tr>\n",
       "    <tr>\n",
       "      <th>2</th>\n",
       "      <td>2</td>\n",
       "      <td>2023-07-02</td>\n",
       "      <td>1</td>\n",
       "    </tr>\n",
       "    <tr>\n",
       "      <th>3</th>\n",
       "      <td>2</td>\n",
       "      <td>2023-07-21</td>\n",
       "      <td>1</td>\n",
       "    </tr>\n",
       "  </tbody>\n",
       "</table>\n",
       "</div>"
      ],
      "text/plain": [
       "   guest_id trip_first_ds  dim_market\n",
       "0         1    2023-06-10           3\n",
       "1         1    2023-07-01           1\n",
       "2         2    2023-07-02           1\n",
       "3         2    2023-07-21           1"
      ]
     },
     "execution_count": 38,
     "metadata": {},
     "output_type": "execute_result"
    }
   ],
   "source": [
    "result2 = df.groupby(['guest_id', 'trip_first_ds']).dim_market.count().reset_index()\n",
    "result2"
   ]
  },
  {
   "cell_type": "code",
   "execution_count": 49,
   "metadata": {},
   "outputs": [
    {
     "data": {
      "text/html": [
       "<div>\n",
       "<style scoped>\n",
       "    .dataframe tbody tr th:only-of-type {\n",
       "        vertical-align: middle;\n",
       "    }\n",
       "\n",
       "    .dataframe tbody tr th {\n",
       "        vertical-align: top;\n",
       "    }\n",
       "\n",
       "    .dataframe thead th {\n",
       "        text-align: right;\n",
       "    }\n",
       "</style>\n",
       "<table border=\"1\" class=\"dataframe\">\n",
       "  <thead>\n",
       "    <tr style=\"text-align: right;\">\n",
       "      <th></th>\n",
       "      <th>guest_id</th>\n",
       "      <th>trip_first_ds</th>\n",
       "      <th>dim_market</th>\n",
       "    </tr>\n",
       "  </thead>\n",
       "  <tbody>\n",
       "    <tr>\n",
       "      <th>0</th>\n",
       "      <td>1</td>\n",
       "      <td>2023-06-10</td>\n",
       "      <td>[A, B, C]</td>\n",
       "    </tr>\n",
       "    <tr>\n",
       "      <th>1</th>\n",
       "      <td>1</td>\n",
       "      <td>2023-07-01</td>\n",
       "      <td>[D]</td>\n",
       "    </tr>\n",
       "    <tr>\n",
       "      <th>2</th>\n",
       "      <td>2</td>\n",
       "      <td>2023-07-02</td>\n",
       "      <td>[A]</td>\n",
       "    </tr>\n",
       "    <tr>\n",
       "      <th>3</th>\n",
       "      <td>2</td>\n",
       "      <td>2023-07-21</td>\n",
       "      <td>[BB]</td>\n",
       "    </tr>\n",
       "  </tbody>\n",
       "</table>\n",
       "</div>"
      ],
      "text/plain": [
       "   guest_id trip_first_ds dim_market\n",
       "0         1    2023-06-10  [A, B, C]\n",
       "1         1    2023-07-01        [D]\n",
       "2         2    2023-07-02        [A]\n",
       "3         2    2023-07-21       [BB]"
      ]
     },
     "execution_count": 49,
     "metadata": {},
     "output_type": "execute_result"
    }
   ],
   "source": [
    "result3 = df.groupby(['guest_id', 'trip_first_ds']).agg({'dim_market': list}).reset_index()\n",
    "result3"
   ]
  },
  {
   "cell_type": "markdown",
   "metadata": {},
   "source": []
  },
  {
   "cell_type": "code",
   "execution_count": 43,
   "metadata": {},
   "outputs": [
    {
     "data": {
      "text/html": [
       "<div>\n",
       "<style scoped>\n",
       "    .dataframe tbody tr th:only-of-type {\n",
       "        vertical-align: middle;\n",
       "    }\n",
       "\n",
       "    .dataframe tbody tr th {\n",
       "        vertical-align: top;\n",
       "    }\n",
       "\n",
       "    .dataframe thead th {\n",
       "        text-align: right;\n",
       "    }\n",
       "</style>\n",
       "<table border=\"1\" class=\"dataframe\">\n",
       "  <thead>\n",
       "    <tr style=\"text-align: right;\">\n",
       "      <th></th>\n",
       "      <th>guest_id</th>\n",
       "      <th>trip_first_ds</th>\n",
       "      <th>dim_market</th>\n",
       "    </tr>\n",
       "  </thead>\n",
       "  <tbody>\n",
       "    <tr>\n",
       "      <th>0</th>\n",
       "      <td>1</td>\n",
       "      <td>2023-06-10</td>\n",
       "      <td>[A, B, C]</td>\n",
       "    </tr>\n",
       "    <tr>\n",
       "      <th>1</th>\n",
       "      <td>1</td>\n",
       "      <td>2023-07-01</td>\n",
       "      <td>[D]</td>\n",
       "    </tr>\n",
       "    <tr>\n",
       "      <th>2</th>\n",
       "      <td>2</td>\n",
       "      <td>2023-07-02</td>\n",
       "      <td>[A]</td>\n",
       "    </tr>\n",
       "    <tr>\n",
       "      <th>3</th>\n",
       "      <td>2</td>\n",
       "      <td>2023-07-21</td>\n",
       "      <td>[BB]</td>\n",
       "    </tr>\n",
       "  </tbody>\n",
       "</table>\n",
       "</div>"
      ],
      "text/plain": [
       "   guest_id trip_first_ds dim_market\n",
       "0         1    2023-06-10  [A, B, C]\n",
       "1         1    2023-07-01        [D]\n",
       "2         2    2023-07-02        [A]\n",
       "3         2    2023-07-21       [BB]"
      ]
     },
     "execution_count": 43,
     "metadata": {},
     "output_type": "execute_result"
    }
   ],
   "source": [
    "result4 = df.groupby(['guest_id', 'trip_first_ds']).dim_market.unique().reset_index()\n",
    "result4"
   ]
  },
  {
   "cell_type": "code",
   "execution_count": 54,
   "metadata": {},
   "outputs": [
    {
     "name": "stdout",
     "output_type": "stream",
     "text": [
      "  item list_of_items  index\n",
      "0    a     [a, b, c]      0\n",
      "1    b     [x, b, y]      1\n",
      "2    c     [c, d, e]      0\n"
     ]
    }
   ],
   "source": [
    "data = {\n",
    "    \"item\": ['a', 'b', 'c'],\n",
    "    \"list_of_items\": [['a', 'b', 'c'], ['x', 'b', 'y'], ['c', 'd', 'e']]\n",
    "}\n",
    "\n",
    "# Creating the DataFrame\n",
    "df = pd.DataFrame(data)\n",
    "\n",
    "# Find the index of the item in the list for each row\n",
    "df['index'] = df.apply(lambda row: row['list_of_items'].index(row['item']) if row['item'] in row['list_of_items'] else None, axis=1)\n",
    "\n",
    "print(df)"
   ]
  },
  {
   "cell_type": "code",
   "execution_count": 62,
   "metadata": {},
   "outputs": [
    {
     "data": {
      "text/plain": [
       "numpy.ndarray"
      ]
     },
     "execution_count": 62,
     "metadata": {},
     "output_type": "execute_result"
    }
   ],
   "source": [
    "df['index'].fillna('').apply(lambda x: x*2).values"
   ]
  },
  {
   "cell_type": "code",
   "execution_count": 57,
   "metadata": {},
   "outputs": [],
   "source": [
    "index_map = df.set_index('item')['index'].to_dict()"
   ]
  },
  {
   "cell_type": "code",
   "execution_count": 55,
   "metadata": {},
   "outputs": [
    {
     "name": "stdout",
     "output_type": "stream",
     "text": [
      "TF-IDF Sparse Matrix:\n",
      "  (0, 19)\t0.2342968107614109\n",
      "  (0, 32)\t0.189683460929104\n",
      "  (0, 51)\t0.189683460929104\n",
      "  (0, 9)\t0.189683460929104\n",
      "  (0, 36)\t0.189683460929104\n",
      "  (0, 13)\t0.189683460929104\n",
      "  (0, 0)\t0.189683460929104\n",
      "  (0, 46)\t0.2342968107614109\n",
      "  (0, 45)\t0.2342968107614109\n",
      "  (0, 40)\t0.2342968107614109\n",
      "  (0, 28)\t0.2342968107614109\n",
      "  (0, 21)\t0.2342968107614109\n",
      "  (0, 1)\t0.2342968107614109\n",
      "  (0, 14)\t0.2342968107614109\n",
      "  (0, 22)\t0.2342968107614109\n",
      "  (0, 48)\t0.15507865836785725\n",
      "  (0, 5)\t0.15507865836785725\n",
      "  (0, 43)\t0.15507865836785725\n",
      "  (0, 31)\t0.15507865836785725\n",
      "  (0, 2)\t0.189683460929104\n",
      "  (0, 42)\t0.2342968107614109\n",
      "  (0, 30)\t0.2342968107614109\n",
      "  (0, 26)\t0.15507865836785725\n",
      "  (0, 50)\t0.15507865836785725\n",
      "  (1, 10)\t0.19447465538892725\n",
      "  :\t:\n",
      "  (2, 30)\t0.1870245011659935\n",
      "  (2, 26)\t0.12378960101285746\n",
      "  (2, 50)\t0.12378960101285746\n",
      "  (3, 20)\t0.2850562907261762\n",
      "  (3, 6)\t0.2247416538009314\n",
      "  (3, 32)\t0.18194773786870677\n",
      "  (3, 51)\t0.18194773786870677\n",
      "  (3, 9)\t0.18194773786870677\n",
      "  (3, 36)\t0.18194773786870677\n",
      "  (3, 13)\t0.18194773786870677\n",
      "  (3, 0)\t0.18194773786870677\n",
      "  (3, 46)\t0.2247416538009314\n",
      "  (3, 45)\t0.2247416538009314\n",
      "  (3, 40)\t0.2247416538009314\n",
      "  (3, 28)\t0.2247416538009314\n",
      "  (3, 21)\t0.2247416538009314\n",
      "  (3, 1)\t0.2247416538009314\n",
      "  (3, 14)\t0.2247416538009314\n",
      "  (3, 22)\t0.2247416538009314\n",
      "  (3, 48)\t0.14875419788070873\n",
      "  (3, 5)\t0.14875419788070873\n",
      "  (3, 43)\t0.29750839576141747\n",
      "  (3, 31)\t0.29750839576141747\n",
      "  (3, 26)\t0.14875419788070873\n",
      "  (3, 50)\t0.14875419788070873\n",
      "\n",
      "Feature Names (4-grams):\n",
      "[' doc', ' fir', ' is ', ' one', ' sec', ' the', ' thi', 'and ', 'cond', 'cume', 'd do', 'd on', 'd th', 'docu', 'e fi', 'e se', 'e th', 'econ', 'ent ', 'ent.', 'ent?', 'firs', 'he f', 'he s', 'he t', 'hird', 'his ', 'ird ', 'irst', 'is d', 'is i', 'is t', 'ment', 'nd d', 'nd t', 'nt i', 'ocum', 'ond ', 'one.', 'rd o', 'rst ', 's do', 's is', 's th', 'seco', 'st d', 't do', 't is', 'the ', 'thir', 'this', 'umen']\n"
     ]
    },
    {
     "name": "stderr",
     "output_type": "stream",
     "text": [
      "/Users/yichengli/anaconda3/envs/machine-learning-env/lib/python3.8/site-packages/sklearn/utils/deprecation.py:87: FutureWarning: Function get_feature_names is deprecated; get_feature_names is deprecated in 1.0 and will be removed in 1.2. Please use get_feature_names_out instead.\n",
      "  warnings.warn(msg, category=FutureWarning)\n"
     ]
    }
   ],
   "source": [
    "from sklearn.feature_extraction.text import TfidfVectorizer\n",
    "\n",
    "# Sample text data\n",
    "documents = [\n",
    "    'This is the first document.',\n",
    "    'This document is the second document.',\n",
    "    'And this is the third one.',\n",
    "    'Is this the first document?'\n",
    "]\n",
    "\n",
    "# Initialize the TfidfVectorizer\n",
    "vectorizer = TfidfVectorizer(analyzer='char', ngram_range=(4, 4))\n",
    "\n",
    "# Fit and transform the text data to create character-level 4-gram TF-IDF sparse vectors\n",
    "X = vectorizer.fit_transform(documents)\n",
    "\n",
    "# X is a sparse matrix representing the TF-IDF vectors\n",
    "print(\"TF-IDF Sparse Matrix:\")\n",
    "print(X)\n",
    "\n",
    "# To see the feature names (4-grams)\n",
    "print(\"\\nFeature Names (4-grams):\")\n",
    "print(vectorizer.get_feature_names())\n"
   ]
  }
 ],
 "metadata": {
  "kernelspec": {
   "display_name": "machine-learning-env",
   "language": "python",
   "name": "python3"
  },
  "language_info": {
   "codemirror_mode": {
    "name": "ipython",
    "version": 3
   },
   "file_extension": ".py",
   "mimetype": "text/x-python",
   "name": "python",
   "nbconvert_exporter": "python",
   "pygments_lexer": "ipython3",
   "version": "3.8.16"
  },
  "orig_nbformat": 4,
  "vscode": {
   "interpreter": {
    "hash": "b3eb76b326b09fc188c796660944bff40b6d7c7003db3f64a588475032213368"
   }
  }
 },
 "nbformat": 4,
 "nbformat_minor": 2
}
