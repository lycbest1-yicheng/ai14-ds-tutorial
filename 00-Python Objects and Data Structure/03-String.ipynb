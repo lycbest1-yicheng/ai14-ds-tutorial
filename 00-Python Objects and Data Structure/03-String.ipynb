{
 "cells": [
  {
   "cell_type": "markdown",
   "metadata": {},
   "source": [
    "___\n",
    "\n",
    "<center><img src='../AI14_logo.png'/></center>\n",
    "\n",
    "___\n",
    "<center><em>Content Copyright by AI14.io</em></center>"
   ]
  },
  {
   "attachments": {},
   "cell_type": "markdown",
   "metadata": {},
   "source": [
    "# Python String Basics\n",
    "\n",
    "In this notebook, we'll discuss how to create strings in Python, print them, index and slice them, and understand their properties. We will also cover some basic string methods and print formatting.\n",
    "\n",
    "Let's get started!"
   ]
  },
  {
   "attachments": {},
   "cell_type": "markdown",
   "metadata": {},
   "source": [
    "## 1. Creating Strings\n",
    "\n",
    "To create a string in Python, you need to use either single quotes or double quotes.\n"
   ]
  },
  {
   "cell_type": "code",
   "execution_count": null,
   "metadata": {},
   "outputs": [],
   "source": [
    "# Creating strings\n",
    "string1 = 'Hello'\n",
    "string2 = \"World\"\n",
    "print(string1)\n",
    "print(string2)"
   ]
  },
  {
   "cell_type": "code",
   "execution_count": null,
   "metadata": {},
   "outputs": [],
   "source": [
    "# Be careful with quotes!\n",
    "string3 =  'I'm using single quotes and create an error!'\n",
    "print(string3)"
   ]
  },
  {
   "cell_type": "code",
   "execution_count": null,
   "metadata": {},
   "outputs": [],
   "source": [
    "# Be careful with quotes!\n",
    "string4 =  \"I'm using double quotes and solve the error!\"\n",
    "print(string4)"
   ]
  },
  {
   "attachments": {},
   "cell_type": "markdown",
   "metadata": {},
   "source": [
    "## 2. Printing Strings\n",
    "\n",
    "Printing a string in Python is easy using the print() function."
   ]
  },
  {
   "cell_type": "code",
   "execution_count": null,
   "metadata": {},
   "outputs": [],
   "source": [
    "# Printing strings\n",
    "print(\"Hello, World!\")\n",
    "print('Line1 \\nLine2 print a new line') # use \\n to print newline"
   ]
  },
  {
   "attachments": {},
   "cell_type": "markdown",
   "metadata": {},
   "source": [
    "### String Formatting\n",
    "\n",
    "Print formatting allows for a more aesthetic output and is especially useful when dealing with user input, file manipulation, and more complex string manipulation. Suggest using f-strings formatting."
   ]
  },
  {
   "cell_type": "code",
   "execution_count": null,
   "metadata": {},
   "outputs": [],
   "source": [
    "name = \"John\"\n",
    "print(f\"Hello, {name}!\")"
   ]
  },
  {
   "cell_type": "code",
   "execution_count": null,
   "metadata": {},
   "outputs": [],
   "source": [
    "price = 50.034932\n",
    "print(f\"The price is {price}\")"
   ]
  },
  {
   "cell_type": "code",
   "execution_count": null,
   "metadata": {},
   "outputs": [],
   "source": [
    "# Use formating syntax to regulate how float should be print\n",
    "# syntax:  {var}:{width}.{precision}{type}\n",
    "# var is variable name\n",
    "# width is minimum length of the string it should show. If original string is shorter than width, then padding blank space in front\n",
    "# type is the type of number\n",
    "print(f\"The price is {price:1.4f}\")\n",
    "print(f\"The price is {price:10.4f}\")\n",
    "print(f\"The price is {price:1.2f}\")"
   ]
  },
  {
   "cell_type": "code",
   "execution_count": null,
   "metadata": {},
   "outputs": [],
   "source": [
    "# You can put as many variables you want in the f-strings.\n",
    "print(f\"Hello, {name}! The price is {price:1.4f}.\")"
   ]
  },
  {
   "attachments": {},
   "cell_type": "markdown",
   "metadata": {},
   "source": [
    "## 3. String Indexing and Slicing\n",
    "\n",
    "Python allows you to access individual elements in a string using indexing. Note that python is 0-based indexing, which means index start with 0. "
   ]
  },
  {
   "cell_type": "code",
   "execution_count": null,
   "metadata": {},
   "outputs": [],
   "source": [
    "# String indexing\n",
    "s = \"Hello, World!\"\n",
    "print(f\"The first character of the string is:  {s[0]}\")"
   ]
  },
  {
   "cell_type": "code",
   "execution_count": null,
   "metadata": {},
   "outputs": [],
   "source": [
    "# use [:inx] to capture everything up to the index (not including)\n",
    "print(f\"The first five characters of the string are: {s[:5]}\")"
   ]
  },
  {
   "cell_type": "code",
   "execution_count": null,
   "metadata": {},
   "outputs": [],
   "source": [
    "# use [inx:] to capture everything from the index (including)\n",
    "print(f\"The last six characters of the string are: {s[7:]}\")"
   ]
  },
  {
   "cell_type": "code",
   "execution_count": null,
   "metadata": {},
   "outputs": [],
   "source": [
    "# use [-ind] to grab the index counting from the last character. -1 is the last one. -2 is second to last one.\n",
    "print(f\"The last character of the string are: {s[-1]}\")\n",
    "print(f\"The second to last character of the string are: {s[-2]}\")\n",
    "print(f\"Everything up to the last character of the string are: {s[:-1]}\")"
   ]
  },
  {
   "cell_type": "code",
   "execution_count": null,
   "metadata": {},
   "outputs": [],
   "source": [
    "# use [::step] to grab element by specifying step\n",
    "print(f\"s[::1] of the string are: {s[::1]}\")\n",
    "print(f\"s[::3] of the string are: {s[::3]}\")"
   ]
  },
  {
   "cell_type": "code",
   "execution_count": null,
   "metadata": {},
   "outputs": [],
   "source": [
    "# Can you guess what this will return?\n",
    "print(f\"s[::-1] of the string are: {s[::-1]}\")"
   ]
  },
  {
   "attachments": {},
   "cell_type": "markdown",
   "metadata": {},
   "source": [
    "## 4. String Properties\n",
    "\n",
    "Strings in Python are immutable, which means once a string is created, the elements within it cannot be changed or replaced.\n"
   ]
  },
  {
   "cell_type": "code",
   "execution_count": null,
   "metadata": {},
   "outputs": [],
   "source": [
    "s = 'Hello World!'\n",
    "print(s)"
   ]
  },
  {
   "cell_type": "code",
   "execution_count": null,
   "metadata": {},
   "outputs": [],
   "source": [
    "# String is not mutable\n",
    "s[-1] = '?'"
   ]
  },
  {
   "attachments": {},
   "cell_type": "markdown",
   "metadata": {},
   "source": [
    "## 5. String Methods\n",
    "\n",
    "Python has a set of built-in methods that you can use on strings."
   ]
  },
  {
   "cell_type": "code",
   "execution_count": null,
   "metadata": {},
   "outputs": [],
   "source": [
    "s = 'Hello World!'"
   ]
  },
  {
   "cell_type": "code",
   "execution_count": null,
   "metadata": {},
   "outputs": [],
   "source": [
    "# Check length of the string\n",
    "len(s)"
   ]
  },
  {
   "cell_type": "code",
   "execution_count": null,
   "metadata": {},
   "outputs": [],
   "source": [
    "# Upper case a string\n",
    "s.upper()"
   ]
  },
  {
   "cell_type": "code",
   "execution_count": null,
   "metadata": {},
   "outputs": [],
   "source": [
    "# Lower case a string\n",
    "s.lower()"
   ]
  },
  {
   "cell_type": "code",
   "execution_count": null,
   "metadata": {},
   "outputs": [],
   "source": [
    "# Split a string by a delimiter (a symbol you defined to separate the string)\n",
    "# The result is a List which will be covered soon!\n",
    "s.split(sep = ' ') # use single blank space to split"
   ]
  },
  {
   "cell_type": "code",
   "execution_count": null,
   "metadata": {},
   "outputs": [],
   "source": [
    "s.split(sep = 'o')  # use 'o' to split the string"
   ]
  },
  {
   "cell_type": "code",
   "execution_count": null,
   "metadata": {},
   "outputs": [],
   "source": [
    "# String concatenation using '+' \n",
    "s1 = 'Hello World!'\n",
    "s2 = 'I am new to Python!'\n",
    "s3 = s1 + s2\n",
    "\n",
    "print(s3)\n",
    "print(s1 + ' ' + s2)\n",
    "print(s1 + '\\n' + s2)"
   ]
  },
  {
   "attachments": {},
   "cell_type": "markdown",
   "metadata": {},
   "source": [
    "## Exercises\n",
    "\n",
    "Now that you've learned the basics of strings in Python, try the following exercises:"
   ]
  },
  {
   "cell_type": "code",
   "execution_count": null,
   "metadata": {},
   "outputs": [],
   "source": [
    "#Exercise 1: Create a string `s` with the value \"Python is fun!\" and print it."
   ]
  },
  {
   "cell_type": "code",
   "execution_count": null,
   "metadata": {},
   "outputs": [],
   "source": [
    "#Exercise 2: Access and print the 7th character in the string `s`."
   ]
  },
  {
   "cell_type": "code",
   "execution_count": null,
   "metadata": {},
   "outputs": [],
   "source": [
    "# Exercise 3: Slice the string `s` to print only \"Python\"."
   ]
  },
  {
   "cell_type": "code",
   "execution_count": null,
   "metadata": {},
   "outputs": [],
   "source": [
    "# Exercise 4:  Use a string method to convert the string `s` to upper case and print the result."
   ]
  },
  {
   "cell_type": "code",
   "execution_count": null,
   "metadata": {},
   "outputs": [],
   "source": [
    "# Exercise 5: Creat another string 's2' with value \"I am Learning it.\" Concate s with s2 with a blank space in between and print it out."
   ]
  },
  {
   "cell_type": "code",
   "execution_count": null,
   "metadata": {},
   "outputs": [],
   "source": [
    "# Exercise 6: Create a variable 'lang' with value \"Python\". Use f-string to print \"I am learning Python\" without directly writing \"Python\"."
   ]
  },
  {
   "attachments": {},
   "cell_type": "markdown",
   "metadata": {},
   "source": [
    "## Impressive!\n",
    "\n",
    "Wow! You have nailed Python String! Keep going!"
   ]
  }
 ],
 "metadata": {
  "kernelspec": {
   "display_name": "base",
   "language": "python",
   "name": "python3"
  },
  "language_info": {
   "codemirror_mode": {
    "name": "ipython",
    "version": 3
   },
   "file_extension": ".py",
   "mimetype": "text/x-python",
   "name": "python",
   "nbconvert_exporter": "python",
   "pygments_lexer": "ipython3",
   "version": "3.6.3"
  },
  "orig_nbformat": 4,
  "vscode": {
   "interpreter": {
    "hash": "bd1fc50697c6a16b990523ef555a399dd1154269f321a4372c319ef0b4b4d5e7"
   }
  }
 },
 "nbformat": 4,
 "nbformat_minor": 2
}
