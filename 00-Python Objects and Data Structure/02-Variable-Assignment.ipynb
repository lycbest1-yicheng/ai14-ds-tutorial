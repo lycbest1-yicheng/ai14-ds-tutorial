{
 "cells": [
  {
   "cell_type": "markdown",
   "metadata": {},
   "source": [
    "___\n",
    "\n",
    "<center><img src='../AI14_logo.png'/></center>\n",
    "\n",
    "___\n",
    "<center><em>Content Copyright by AI14.io</em></center>"
   ]
  },
  {
   "attachments": {},
   "cell_type": "markdown",
   "metadata": {},
   "source": [
    "# Python Variables, Assignment and Dynamic Typing\n",
    "\n",
    "In this notebook, we'll discuss Python variables, how to assign values to them, reassignment, dynamic typing, and how to check the type of a variable.\n",
    "\n",
    "Let's get started!"
   ]
  },
  {
   "cell_type": "markdown",
   "metadata": {},
   "source": [
    "## Python Variables and Basic Assignment\n",
    "\n",
    "In Python, variables do not need explicit declaration to reserve memory space. The declaration happens automatically when a value is assigned to a variable. The equal sign (=) is used to assign values to variables."
   ]
  },
  {
   "cell_type": "code",
   "execution_count": null,
   "metadata": {},
   "outputs": [],
   "source": [
    "# Basic variable assignment\n",
    "x = 10\n",
    "print(x)"
   ]
  },
  {
   "cell_type": "code",
   "execution_count": null,
   "metadata": {},
   "outputs": [],
   "source": [
    "y = 1.5\n",
    "print(y)"
   ]
  },
  {
   "attachments": {},
   "cell_type": "markdown",
   "metadata": {},
   "source": [
    "## Python Dynamic Typing\n",
    "\n",
    "One of Python's most powerful features is dynamic typing. It means that the type of data a variable points to can be changed during the execution of the program. Python keeps track of the kind of stuff each variable points to.\n",
    "\n",
    "Python allows you to assign a new value to a variable, and that new value can be of any type. This is known as reassignment."
   ]
  },
  {
   "cell_type": "code",
   "execution_count": null,
   "metadata": {},
   "outputs": [],
   "source": [
    "# x is an integer\n",
    "x = 10\n",
    "print(f\"{x} is an integer: {type(x)}\")\n",
    "\n",
    "# x is now a string\n",
    "x = \"Hello, world!\"\n",
    "print(f\"{x} is now a string: {type(x)}\")"
   ]
  },
  {
   "attachments": {},
   "cell_type": "markdown",
   "metadata": {},
   "source": [
    "## Type Checking\n",
    "\n",
    "The built-in `type()` function can be used to find out the type of a variable.\n"
   ]
  },
  {
   "cell_type": "code",
   "execution_count": null,
   "metadata": {},
   "outputs": [],
   "source": [
    "# Type checking\n",
    "x = \"Hello,  world!\"\n",
    "print(\"The type of x is:\", type(x))"
   ]
  },
  {
   "attachments": {},
   "cell_type": "markdown",
   "metadata": {},
   "source": [
    "## Rules for variable names\n",
    "* names can not start with a number\n",
    "* names can not contain spaces, use _ intead\n",
    "* names can not contain any of these symbols:\n",
    "\n",
    "      :'\",<>/?|\\!@#%^&*~-+\n",
    "       \n",
    "* it's considered best practice ([PEP8](https://www.python.org/dev/peps/pep-0008/#function-and-variable-names)) that names are lowercase with underscores\n",
    "* avoid using Python built-in keywords like `list` and `str`\n",
    "* avoid using the single characters `l` (lowercase letter el), `O` (uppercase letter oh) and `I` (uppercase letter eye) as they can be confused with `1` and `0`"
   ]
  },
  {
   "attachments": {},
   "cell_type": "markdown",
   "metadata": {},
   "source": [
    "## Exercises"
   ]
  },
  {
   "cell_type": "code",
   "execution_count": null,
   "metadata": {},
   "outputs": [],
   "source": [
    "#  Exercise 1: Create an integer variable named `a`, assign the value `5` to it, and print its value.\n"
   ]
  },
  {
   "cell_type": "code",
   "execution_count": null,
   "metadata": {},
   "outputs": [],
   "source": [
    "# Exercise 2: Create a string variable named `b`, assign the value \"Hello, Python!\" to it, and print its value.\n",
    "#  Reassign the integer `5` to the variable `b` and print its new value.\n"
   ]
  },
  {
   "cell_type": "code",
   "execution_count": null,
   "metadata": {},
   "outputs": [],
   "source": [
    "# Exercise 3: Use the `type()` function to find out the types of the variables `a` and `b`."
   ]
  },
  {
   "attachments": {},
   "cell_type": "markdown",
   "metadata": {},
   "source": [
    "## Congratulations!\n",
    "\n",
    "You have nailed Python Variable assignment! Keep going!"
   ]
  }
 ],
 "metadata": {
  "kernelspec": {
   "display_name": "base",
   "language": "python",
   "name": "python3"
  },
  "language_info": {
   "codemirror_mode": {
    "name": "ipython",
    "version": 3
   },
   "file_extension": ".py",
   "mimetype": "text/x-python",
   "name": "python",
   "nbconvert_exporter": "python",
   "pygments_lexer": "ipython3",
   "version": "3.6.3"
  },
  "orig_nbformat": 4,
  "vscode": {
   "interpreter": {
    "hash": "bd1fc50697c6a16b990523ef555a399dd1154269f321a4372c319ef0b4b4d5e7"
   }
  }
 },
 "nbformat": 4,
 "nbformat_minor": 2
}
