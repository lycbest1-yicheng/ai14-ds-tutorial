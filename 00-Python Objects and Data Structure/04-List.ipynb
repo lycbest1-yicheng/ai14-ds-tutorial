{
 "cells": [
  {
   "cell_type": "markdown",
   "metadata": {},
   "source": [
    "___\n",
    "\n",
    "<center><img src='../AI14_logo.png'/></center>\n",
    "\n",
    "___\n",
    "<center><em>Content Copyright by AI14.io</em></center>"
   ]
  },
  {
   "attachments": {},
   "cell_type": "markdown",
   "metadata": {},
   "source": [
    "# Python List Basics\n",
    "\n",
    "In this notebook, we'll discuss how to \n",
    "1. create lists in Python, \n",
    "2. index and slice them, \n",
    "3. understand basic list methods,\n",
    "4. nesting lists.\n",
    "\n",
    "Let's get started!"
   ]
  },
  {
   "attachments": {},
   "cell_type": "markdown",
   "metadata": {},
   "source": [
    "## 1. Creating Lists\n",
    "\n",
    "Lists are one of the four built-in data structures in Python. They are used to store an indexed list of items.  \n",
    "\n",
    "Python list could have mixed data types. Not necessary true for other programming languages.\n",
    "\n",
    "To create a list, using square brackets '[]'.\n"
   ]
  },
  {
   "cell_type": "code",
   "execution_count": null,
   "metadata": {},
   "outputs": [],
   "source": [
    "# Creating lists\n",
    "list1 = ['apple', 'banana', 'cherry']\n",
    "list2 = [1, 2, 3, 4, 5]\n",
    "list3 = ['apple', 2.0, 3, 'cherry', 5]\n",
    "print(list1)\n",
    "print(list2)\n",
    "print(list3)"
   ]
  },
  {
   "attachments": {},
   "cell_type": "markdown",
   "metadata": {},
   "source": [
    "## 2. Indexing and Slicing Lists\n",
    "\n",
    "Similar to strings, we can index and slice lists. List indexing is also 0-based.\n",
    "\n",
    "Note1: single index will return the item at the position while slicing will return a sublist (still a list).\n",
    "\n",
    "Note2: Slicing and indexing will not change the original list. If you want to save the result, save it to a new variable."
   ]
  },
  {
   "cell_type": "code",
   "execution_count": null,
   "metadata": {},
   "outputs": [],
   "source": [
    "# Indexing lists\n",
    "print(\"The first item in list1 is:\", list1[0])\n",
    "print(\"The first three items in list2 are:\", list2[:3])\n",
    "print(\"The last items in list3 are:\", list3[-1])"
   ]
  },
  {
   "cell_type": "code",
   "execution_count": null,
   "metadata": {},
   "outputs": [],
   "source": [
    "# use [::step] to grab element by specifying step\n",
    "print(f\"list[::1] of the list1 are: {list1[::1]}\")\n",
    "print(f\"list[::3] of the list2 are: {list2[::3]}\")\n",
    "print(f\"list[::-1] of the list3 are: {list3[::-1]}\")"
   ]
  },
  {
   "cell_type": "code",
   "execution_count": null,
   "metadata": {},
   "outputs": [],
   "source": [
    "# slicing and index will not change the original list order\n",
    "print(f\"list[::-1] of the list3 are: {list3[::-1]}\")\n",
    "print(f\"list3 is: {list3}\")"
   ]
  },
  {
   "attachments": {},
   "cell_type": "markdown",
   "metadata": {},
   "source": [
    "## 3. List Properties\n",
    "\n",
    "Lists in Python are mutable, which means once a string is created, the elements within it can be changed or replaced.\n",
    "\n",
    "Note: This is different from strings, which are immutable.\n"
   ]
  },
  {
   "cell_type": "code",
   "execution_count": null,
   "metadata": {},
   "outputs": [],
   "source": [
    "list1 = ['apple', 'banana', 'cherry']\n",
    "print(f'list1 is {list1}')\n",
    "list1[0] = 'pears'\n",
    "print(f'After changing, list1 is {list1}.')"
   ]
  },
  {
   "cell_type": "code",
   "execution_count": null,
   "metadata": {},
   "outputs": [],
   "source": [
    "# You can assign new values to any items list by directly assigning to its index.\n",
    "\n",
    "# Assign 'pear' to index-1 in list1\n",
    "list1[1] = 'pear'\n",
    "print(list1)\n"
   ]
  },
  {
   "cell_type": "code",
   "execution_count": null,
   "metadata": {},
   "outputs": [],
   "source": [
    "# Assign a new list to the slice of the original list (make sure the length of the list  matches)\n",
    "list1[0:2] = ['aa', 'bb']\n",
    "print(list1)"
   ]
  },
  {
   "cell_type": "code",
   "execution_count": null,
   "metadata": {},
   "outputs": [],
   "source": [
    "# Bonus: Guess what this will be. Be careful to deal with mutable data types in Python.\n",
    "list1[:-1] = 'pear'\n",
    "print(list1)"
   ]
  },
  {
   "attachments": {},
   "cell_type": "markdown",
   "metadata": {},
   "source": [
    "## 4. Basic List Methods\n",
    "\n",
    "Python lists have different methods that can be used to manipulate them."
   ]
  },
  {
   "cell_type": "code",
   "execution_count": null,
   "metadata": {},
   "outputs": [],
   "source": [
    "list1 = ['apple', 'banana', 'cherry']"
   ]
  },
  {
   "cell_type": "code",
   "execution_count": null,
   "metadata": {},
   "outputs": [],
   "source": [
    "# To get the length of the list\n",
    "# Method: use len()\n",
    "len(list1)"
   ]
  },
  {
   "cell_type": "code",
   "execution_count": null,
   "metadata": {},
   "outputs": [],
   "source": [
    "# To append a new item to the end of the list.\n",
    "# Method 1: using append(). This will directly modify the list.\n",
    "list1.append('date')\n",
    "print(list1)\n",
    "\n",
    "# Method 2: using '+' with a new list of item you want to append and assign to itself\n",
    "list1 = list1 + ['date2', 'date3', 'date4']\n",
    "print(list1)"
   ]
  },
  {
   "cell_type": "code",
   "execution_count": null,
   "metadata": {},
   "outputs": [],
   "source": [
    "# To pop an item from the end of the list. \n",
    "\n",
    "# Method: Use pop(). This will directly modify the list.\n",
    "list1.pop()\n",
    "print(list1)\n",
    "\n",
    "# You can also specify the index to pop the index\n",
    "list1.pop(0)\n",
    "print(list1)"
   ]
  },
  {
   "cell_type": "code",
   "execution_count": null,
   "metadata": {},
   "outputs": [],
   "source": [
    "# To reverse a list.\n",
    "# Method 1: using slicing and assignment\n",
    "list1 = list1[::-1]\n",
    "print(list1)\n",
    "\n",
    "# Method2: using reverse(). This will directly modify the list.\n",
    "list1.reverse()\n",
    "print(list1)\n"
   ]
  },
  {
   "cell_type": "code",
   "execution_count": null,
   "metadata": {},
   "outputs": [],
   "source": [
    "#  To sort a list for ascending order\n",
    "# Method1: Use sort(). This will directly sort the list in ascending order.\n",
    "list1.sort()\n",
    "print(list1)\n",
    "\n",
    "# Method2: Use sorted() + assign.\n",
    "list1 = sorted(list1)\n",
    "print(list1)"
   ]
  },
  {
   "attachments": {},
   "cell_type": "markdown",
   "metadata": {},
   "source": [
    "## 5. Nesting Lists\n",
    "\n",
    "A great feature of Python data structures is that they support nesting, which means we can have lists within list.\n"
   ]
  },
  {
   "cell_type": "code",
   "execution_count": null,
   "metadata": {},
   "outputs": [],
   "source": [
    "# Nesting lists\n",
    "list1 = ['a', 'b', ['c', 'd']]\n",
    "list2 = ['a', 'b', ['c', 'd']]\n",
    "print(list1)\n",
    "print(list2)"
   ]
  },
  {
   "cell_type": "code",
   "execution_count": null,
   "metadata": {},
   "outputs": [],
   "source": [
    "# Be careful when you append a list. \n",
    "# Ask yourself, do you want to append just a item or the list of the item. \n",
    "# See the example.\n",
    "\n",
    "print(list1 + ['e'])\n",
    "print(list2 + [['e']])\n",
    "print(list1) # using '+' without assignment will not change the original list\n",
    "print(list2)"
   ]
  },
  {
   "cell_type": "code",
   "execution_count": null,
   "metadata": {},
   "outputs": [],
   "source": [
    "list1.append('e')\n",
    "print(list1) # using append() without assignment will change the original list\n",
    "list2.append(['e'])\n",
    "print(list2)"
   ]
  },
  {
   "attachments": {},
   "cell_type": "markdown",
   "metadata": {},
   "source": [
    "## 6. Set\n",
    "Sets are an unordered collection of unique elements. We can construct them by using the set() function. \n",
    "\n",
    "It is really handy when you want to remove duplicated items in a list."
   ]
  },
  {
   "cell_type": "code",
   "execution_count": null,
   "metadata": {},
   "outputs": [],
   "source": [
    "# Construct a set object\n",
    "# Method 1: create an empty set and add item to it one-by-one\n",
    "x = set()\n",
    "x.add(1)\n",
    "x.add(2)\n",
    "print(x)\n",
    "\n",
    "# Method2: Pass a list to set() to directly convert to set. Remember duplicated items will be removed.\n",
    "list1 = [1,2,2,3,3]\n",
    "set1 = set(list1)\n",
    "print(set1)"
   ]
  },
  {
   "attachments": {},
   "cell_type": "markdown",
   "metadata": {},
   "source": [
    "## Exercises\n",
    "\n",
    "Now that you've learned the basics of lists in Python, try the following exercises:"
   ]
  },
  {
   "cell_type": "code",
   "execution_count": null,
   "metadata": {},
   "outputs": [],
   "source": [
    "# Exercise 1: Create a list `list1` with the values 1, 2, 3, 4, 5 and print it.\n"
   ]
  },
  {
   "cell_type": "code",
   "execution_count": null,
   "metadata": {},
   "outputs": [],
   "source": [
    "# Exercise 2: Access and print the 3rd item in `list1`."
   ]
  },
  {
   "cell_type": "code",
   "execution_count": null,
   "metadata": {},
   "outputs": [],
   "source": [
    "# Exercise 3: Slice `list1` to print the last 3 items."
   ]
  },
  {
   "cell_type": "code",
   "execution_count": null,
   "metadata": {},
   "outputs": [],
   "source": [
    "# Exercise 4: Change the first value in 'list1' to be 10 and print the list."
   ]
  },
  {
   "cell_type": "code",
   "execution_count": null,
   "metadata": {},
   "outputs": [],
   "source": [
    "# Exercise 5: Use the `append()` method to add the value 6 to `list1` and print the updated list."
   ]
  },
  {
   "cell_type": "code",
   "execution_count": null,
   "metadata": {},
   "outputs": [],
   "source": [
    "# Exercise 6: Use the `+` with assignment method to add the value 7 to `list1` and print the updated list.\n"
   ]
  },
  {
   "cell_type": "code",
   "execution_count": null,
   "metadata": {},
   "outputs": [],
   "source": [
    "# Exercise7: Convert list1 to a set."
   ]
  },
  {
   "attachments": {},
   "cell_type": "markdown",
   "metadata": {},
   "source": [
    "## What a great progress!\n",
    "\n",
    "Wow! You have nailed Python List! Keep going!"
   ]
  }
 ],
 "metadata": {
  "kernelspec": {
   "display_name": "base",
   "language": "python",
   "name": "python3"
  },
  "language_info": {
   "codemirror_mode": {
    "name": "ipython",
    "version": 3
   },
   "file_extension": ".py",
   "mimetype": "text/x-python",
   "name": "python",
   "nbconvert_exporter": "python",
   "pygments_lexer": "ipython3",
   "version": "3.6.3"
  },
  "orig_nbformat": 4,
  "vscode": {
   "interpreter": {
    "hash": "bd1fc50697c6a16b990523ef555a399dd1154269f321a4372c319ef0b4b4d5e7"
   }
  }
 },
 "nbformat": 4,
 "nbformat_minor": 2
}
