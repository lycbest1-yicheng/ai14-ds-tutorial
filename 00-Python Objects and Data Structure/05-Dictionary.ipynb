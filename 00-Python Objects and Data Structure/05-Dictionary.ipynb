{
 "cells": [
  {
   "attachments": {},
   "cell_type": "markdown",
   "metadata": {},
   "source": [
    "___\n",
    "\n",
    "<center><img src='../AI14_logo.png'/></center>\n",
    "\n",
    "___\n",
    "<center><em>Content Copyright by AI14.io</em></center>"
   ]
  },
  {
   "attachments": {},
   "cell_type": "markdown",
   "metadata": {},
   "source": [
    "# Python Dictionary Basics\n",
    "\n",
    "In this notebook, we'll discuss how to \n",
    "1. Constructing a Dictionary\n",
    "2. Accessing objects from a dictionary\n",
    "3. Basic Dictionary Methods\n",
    "\n",
    "Let's get started!"
   ]
  },
  {
   "attachments": {},
   "cell_type": "markdown",
   "metadata": {},
   "source": [
    "## 1. Creating Dictionary\n",
    "A Python dictionary is a built-in data type that stores a collection of key-value pairs. \n",
    "\n",
    "You should use a Python dictionary when you have a set of unique keys and you want to associate values with these keys for quick look-ups. Dictionaries are particularly useful when the order of data is not important and when you need to store complex structures, such as nested dictionaries or lists."
   ]
  },
  {
   "cell_type": "code",
   "execution_count": null,
   "metadata": {},
   "outputs": [],
   "source": [
    "# Each key-value pair is separated by a colon, and pairs are separated by commas. The full dictionary is wrapped in curly brackets '{}'.\n",
    "car = {\n",
    "    \"brand\": \"Ford\",\n",
    "    \"model\": \"Mustang\",\n",
    "    \"year\": 1964\n",
    "}\n",
    "print(car)"
   ]
  },
  {
   "attachments": {},
   "cell_type": "markdown",
   "metadata": {},
   "source": [
    "Dictionary is a mutable object. You can add, modify, delete key-value pairs in an existing dictionary object."
   ]
  },
  {
   "cell_type": "code",
   "execution_count": null,
   "metadata": {},
   "outputs": [],
   "source": [
    "# Add new key-pair to an existing dictionary object\n",
    "car[\"color\"] = \"red\"\n",
    "print(car)\n",
    "\n",
    "# Modify existing key-pair an existing dictionary object\n",
    "car[\"color\"] = \"black\"\n",
    "print(car)\n",
    "\n",
    "# Delete a key-pair\n",
    "car.pop(\"color\")\n",
    "print(car)"
   ]
  },
  {
   "attachments": {},
   "cell_type": "markdown",
   "metadata": {},
   "source": [
    "## 2. Accessing objects from a dictionary\n",
    "You can access the items of a dictionary by referring to its key name."
   ]
  },
  {
   "cell_type": "code",
   "execution_count": null,
   "metadata": {},
   "outputs": [],
   "source": [
    "# Accessing objects from a dictionary\n",
    "# Method 1: directly accessing by the key name\n",
    "model = car[\"model\"]\n",
    "print(f\"Car model: {model}\")\n",
    "\n",
    "# Method 2: \n",
    "model = car.get(\"model\")\n",
    "print(f\"Car model: {model}\")"
   ]
  },
  {
   "attachments": {},
   "cell_type": "markdown",
   "metadata": {},
   "source": [
    "## 3. Nested dictionary\n",
    "\n",
    "The value of dictionary can be any data type and each value for each key can be different data type."
   ]
  },
  {
   "cell_type": "code",
   "execution_count": null,
   "metadata": {},
   "outputs": [],
   "source": [
    "child1 = {\n",
    "  \"name\" : \"Emil\",\n",
    "  \"dob\" : '2004-03-12'\n",
    "}\n",
    "\n",
    "\n",
    "# Now, let's nest them into a parent dictionary\n",
    "family = {\n",
    "  \"child1\" : child1,\n",
    "  \"size\" : 3\n",
    "}\n",
    "\n",
    "print(family)"
   ]
  },
  {
   "attachments": {},
   "cell_type": "markdown",
   "metadata": {},
   "source": [
    "## 4. Basic Dictionary Methods\n",
    "Dictionaries have various useful methods. Let's explore some of them."
   ]
  },
  {
   "cell_type": "code",
   "execution_count": null,
   "metadata": {},
   "outputs": [],
   "source": [
    "car = {\n",
    "    \"brand\": \"Ford\",\n",
    "    \"model\": \"Mustang\",\n",
    "    \"year\": 1964\n",
    "}\n",
    "print(car)"
   ]
  },
  {
   "cell_type": "code",
   "execution_count": null,
   "metadata": {},
   "outputs": [],
   "source": [
    "# Let's check the keys in our 'car' dictionary\n",
    "print(\"Keys in car dictionary:\", car.keys())\n",
    "\n",
    "# Now, check the values\n",
    "print(\"Values in car dictionary:\", car.values())\n",
    "\n",
    "# You can also get the key-value pairs together, using the items() method\n",
    "print(\"Key-value pairs in car dictionary:\", car.items())"
   ]
  },
  {
   "attachments": {},
   "cell_type": "markdown",
   "metadata": {},
   "source": [
    "## Exercises\n",
    "\n",
    "Now that you've learned the basics of dictionary in Python, try the following exercises:"
   ]
  },
  {
   "cell_type": "code",
   "execution_count": null,
   "metadata": {},
   "outputs": [],
   "source": [
    "# Exercise 1: Construct a dictionary named 'student' with keys 'name', 'age', 'grade', and corresponding values of your choice."
   ]
  },
  {
   "cell_type": "code",
   "execution_count": null,
   "metadata": {},
   "outputs": [],
   "source": [
    "# Exercise 2: Print the 'age' of the 'student' dictionary created in the previous exercise."
   ]
  },
  {
   "cell_type": "code",
   "execution_count": null,
   "metadata": {},
   "outputs": [],
   "source": [
    "# Exercise 3: Add a new key-value pair 'school': 'High School' to the 'student' dictionary."
   ]
  },
  {
   "cell_type": "code",
   "execution_count": null,
   "metadata": {},
   "outputs": [],
   "source": [
    "# Exercise 4: Now modifying the age of the student by adding 10."
   ]
  },
  {
   "cell_type": "code",
   "execution_count": null,
   "metadata": {},
   "outputs": [],
   "source": [
    "# Exercise 5: Create two dictionaries 'book1' and 'book2' with keys 'title' and 'author'. Now, create a nested dictionary 'library' containing 'book1' and 'book2'."
   ]
  },
  {
   "cell_type": "code",
   "execution_count": null,
   "metadata": {},
   "outputs": [],
   "source": [
    "# Exercise 6: Print all the keys, all the values, and all key-value pairs of the 'library' dictionary."
   ]
  },
  {
   "attachments": {},
   "cell_type": "markdown",
   "metadata": {},
   "source": [
    "## Fantastic!\n",
    "\n",
    "Wow! You have nailed Python Dictionary! Keep going!"
   ]
  }
 ],
 "metadata": {
  "kernelspec": {
   "display_name": "base",
   "language": "python",
   "name": "python3"
  },
  "language_info": {
   "codemirror_mode": {
    "name": "ipython",
    "version": 3
   },
   "file_extension": ".py",
   "mimetype": "text/x-python",
   "name": "python",
   "nbconvert_exporter": "python",
   "pygments_lexer": "ipython3",
   "version": "3.6.3"
  },
  "orig_nbformat": 4,
  "vscode": {
   "interpreter": {
    "hash": "bd1fc50697c6a16b990523ef555a399dd1154269f321a4372c319ef0b4b4d5e7"
   }
  }
 },
 "nbformat": 4,
 "nbformat_minor": 2
}
